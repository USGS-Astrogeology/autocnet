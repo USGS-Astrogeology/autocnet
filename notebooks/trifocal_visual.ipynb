{
 "cells": [
  {
   "cell_type": "code",
   "execution_count": 1,
   "metadata": {},
   "outputs": [
    {
     "name": "stdout",
     "output_type": "stream",
     "text": [
      "Populating the interactive namespace from numpy and matplotlib\n"
     ]
    }
   ],
   "source": [
    "import os\n",
    "import sys\n",
    "import pandas as pd\n",
    "import cv2\n",
    "import numpy as np\n",
    "\n",
    "# Setup paths to your local autocnet and plio enviorment (remove if you used conda install)\n",
    "sys.path.insert(0, \"/Users/thatcher/Documents/Work/autocnet\")\n",
    "sys.path.insert(0, \"/Users/thatcher/Documents/Work/plio\")\n",
    "\n",
    "from autocnet.examples import get_path\n",
    "from autocnet.graph.network import CandidateGraph\n",
    "from IPython.display import display\n",
    "from autocnet.camera import camera\n",
    "from matplotlib import pyplot as plt\n",
    "from autocnet.transformation.fundamental_matrix import compute_fundamental_matrix\n",
    "from autocnet.transformation import trifocal as tf\n",
    "from autocnet.transformation.fundamental_matrix import compute_epipolar_lines\n",
    "\n",
    "%pylab inline"
   ]
  },
  {
   "cell_type": "code",
   "execution_count": 2,
   "metadata": {},
   "outputs": [],
   "source": [
    "# #Point to the adjacency Graph\n",
    "# adjacency = get_path('three_image_adjacency.json')\n",
    "# basepath = get_path('Apollo15')\n",
    "# cg = CandidateGraph.from_adjacency(adjacency, basepath=basepath)\n",
    "\n",
    "# #Apply SIFT to extract features\n",
    "# cg.extract_features(extractor_method='sift', extractor_parameters={'nfeatures':500})\n",
    "\n",
    "# #Match\n",
    "# cg.match()\n",
    "\n",
    "# #Apply outlier detection\n",
    "# cg.symmetry_checks()\n",
    "# cg.ratio_checks()\n",
    "\n",
    "# #Compute a homography and apply RANSAC\n",
    "# cg.compute_fundamental_matrices(clean_keys=['ratio', 'symmetry'])"
   ]
  },
  {
   "cell_type": "code",
   "execution_count": 3,
   "metadata": {},
   "outputs": [],
   "source": [
    "# cg.plot()"
   ]
  },
  {
   "cell_type": "code",
   "execution_count": 4,
   "metadata": {},
   "outputs": [],
   "source": [
    "# cg.node[1]['data'].plot()"
   ]
  },
  {
   "cell_type": "code",
   "execution_count": 5,
   "metadata": {},
   "outputs": [],
   "source": [
    "# ax1 = plt.subplot(1,1,1)\n",
    "# ax = cg.node[0]['data'].plot(ax=ax1, color='y')"
   ]
  },
  {
   "cell_type": "code",
   "execution_count": 6,
   "metadata": {},
   "outputs": [],
   "source": [
    "# fig, ax = plt.subplots(1,1)\n",
    "# print(ax)\n",
    "# ax = cg.edges[0,1]['data'].plot(clean_keys=['ratio', 'symmetry', 'fundamental'], ax=ax)"
   ]
  },
  {
   "cell_type": "code",
   "execution_count": 7,
   "metadata": {},
   "outputs": [],
   "source": [
    "# fig, ax = plt.subplots(1,1)\n",
    "# cg.edges[0,1]['data'].plot_source(clean_keys=['ratio', 'symmetry', 'fundamental'], ax=ax)"
   ]
  },
  {
   "cell_type": "code",
   "execution_count": 8,
   "metadata": {},
   "outputs": [],
   "source": [
    "# fig, ax = plt.subplots(1,1)\n",
    "# cg.edges[0,1]['data'].plot(node='d', clean_keys=['ratio', 'symmetry', 'fundamental'])"
   ]
  },
  {
   "cell_type": "code",
   "execution_count": 9,
   "metadata": {},
   "outputs": [],
   "source": [
    "# cg.edges[0,1]['data'].plot(clean_keys=['ratio', 'symmetry', 'fundamental'], line_kwargs={'linewidth':0})"
   ]
  },
  {
   "cell_type": "code",
   "execution_count": 10,
   "metadata": {},
   "outputs": [],
   "source": [
    "# e1 = cg.edges[0,1]['data'].get_matches(clean_keys=['fundamental'])\n",
    "# e2 = cg.edges[0,2]['data'].get_matches(clean_keys=['fundamental'])\n",
    "# e3 = cg.edges[1,2]['data'].get_matches(clean_keys=['fundamental'])"
   ]
  },
  {
   "cell_type": "code",
   "execution_count": 11,
   "metadata": {},
   "outputs": [],
   "source": [
    "# e1_s = e1[['source_x', 'source_y']]\n",
    "# e1_d = e1[['destination_x', 'destination_y']]\n",
    "\n",
    "# e2_s = e2[['source_x', 'source_y']]\n",
    "# e2_d = e2[['destination_x', 'destination_y']]\n",
    "\n",
    "# e3_s = e3[['source_x', 'source_y']]\n",
    "# e3_d = e3[['destination_x', 'destination_y']]"
   ]
  },
  {
   "cell_type": "code",
   "execution_count": 12,
   "metadata": {},
   "outputs": [],
   "source": [
    "# im1 = cg.node[0]['data'].geodata.read_array()\n",
    "# im2 = cg.node[1]['data'].geodata.read_array()\n",
    "# im3 = cg.node[2]['data'].geodata.read_array()"
   ]
  },
  {
   "cell_type": "code",
   "execution_count": 13,
   "metadata": {},
   "outputs": [],
   "source": [
    "# imshow(im1, cmap='Greys')\n",
    "# plot(e1.source_x, e1.source_y, 'ro')"
   ]
  },
  {
   "cell_type": "code",
   "execution_count": 14,
   "metadata": {},
   "outputs": [],
   "source": [
    "# f01 = cg.edges[0,1]['data']['fundamental_matrix']\n",
    "# f02 = cg.edges[0,2]['data']['fundamental_matrix']\n",
    "\n",
    "# Makes homogenous matrix values for Z\n",
    "# e1['int'] = 1\n",
    "# e2['int'] = 1\n",
    "# e3['int'] = 1\n",
    "\n",
    "# # Create the subset dataframe\n",
    "# e1 = e1[['source_x', 'source_y', 'int']]\n",
    "# e2 = e2[['source_x', 'source_y', 'int']]\n",
    "# e3 = e3[['source_x', 'source_y', 'int']]\n",
    "\n",
    "# Loads dataframe to make them a matrix\n",
    "# matrix_e1 = (np.asarray(e1))\n",
    "# matrix_e2 = (np.asarray(e2))\n",
    "# matrix_e3 = (np.asarray(e3))"
   ]
  },
  {
   "cell_type": "code",
   "execution_count": 165,
   "metadata": {},
   "outputs": [
    {
     "data": {
      "text/html": [
       "<h1>Functions to get correct lines to estimate points</h1>"
      ],
      "text/plain": [
       "<IPython.core.display.HTML object>"
      ]
     },
     "metadata": {},
     "output_type": "display_data"
    }
   ],
   "source": [
    "from IPython.core.display import display, HTML\n",
    "display(HTML('<h1>Functions to get correct lines to estimate points</h1>'))"
   ]
  },
  {
   "cell_type": "code",
   "execution_count": 15,
   "metadata": {
    "scrolled": true
   },
   "outputs": [],
   "source": [
    "# Takes a single line el, and point x\n",
    "def get_correct_line(el, x):\n",
    "    '''\n",
    "    Inputs:\n",
    "\n",
    "    e1: Epipolar line from image-3 to image-1 or image-2 to image-1\n",
    "    x: Point from image that was not in the epipolar image (point to estimate)  \n",
    "\n",
    "    Returns:\n",
    "    Perpindicular based on the epipolar line and point\n",
    "    '''\n",
    "    correct_line = np.array([el[1], -el[0], -x[0]*el[1] + x[1]*el[0]]).T\n",
    "    return correct_line\n",
    "\n",
    "def get_lines(points, F):\n",
    "    '''\n",
    "    Inputs:\n",
    "\n",
    "    points: Homogeneous points from images that matches\n",
    "    F: Fundamental matrix from 2nd or 3rd image to first\n",
    "\n",
    "    Returns:\n",
    "\n",
    "    Epipolar Line based on the fundamantal matrix and match points\n",
    "    '''\n",
    "    line = compute_epipolar_lines(F, points)\n",
    "    return line"
   ]
  },
  {
   "cell_type": "code",
   "execution_count": 166,
   "metadata": {
    "scrolled": true
   },
   "outputs": [],
   "source": [
    "'''Test Point to get Trifocal Tensor Working'''\n",
    "\n",
    "# -1 from simple_matrix2 points to use for testing\n",
    "simple_matrix1 = np.array([[0,0,1], [0,1,1], [0,2,1], [0,3,1], [0,4,1], [0,5,1],\n",
    "                           [0,6,1], [0,7,1], [1.5,1.5,1], [3,0,1], [4,0,1], [3,3,1], [4,4,1]])\n",
    "\n",
    "# Test points to use for testing\n",
    "simple_matrix2 = np.array([[1,1,1], [1,2,1], [1,3,1], [1,4,1], [1,5,1], [1,6,1],\n",
    "                           [1,7,1], [1,8,1], [2.5,2.5,1], [4,1,1], [5,1,1], [4,4,1], [5,5,1]])\n",
    "\n",
    "# +1 from simple_matrix2 points to use for testing\n",
    "simple_matrix3 = np.array([[2,2,1], [2,3,1], [2,4,1], [2,5,1], [2,6,1], [2,7,1],\n",
    "                           [2,8,1], [2,9,1], [3.5,3.5,1], [5,2,1], [6,2,1], [5,5,1], [6,6,1]])\n",
    "\n",
    "# Build DataFrames from simple points\n",
    "df_1 = pd.DataFrame(simple_matrix1)\n",
    "df_2 = pd.DataFrame(simple_matrix2)\n",
    "df_3 = pd.DataFrame(simple_matrix3)"
   ]
  },
  {
   "cell_type": "code",
   "execution_count": 171,
   "metadata": {},
   "outputs": [
    {
     "data": {
      "text/html": [
       "<h1>Estimates point from point correspondents</h1><p>This works with 3 guaranteed matches between 3 images</p>"
      ],
      "text/plain": [
       "<IPython.core.display.HTML object>"
      ]
     },
     "metadata": {},
     "output_type": "display_data"
    }
   ],
   "source": [
    "from IPython.core.display import display, HTML\n",
    "display(HTML('<h1>Estimates point from point correspondents</h1><p>This works with 3 guaranteed matches between 3 images</p>'))"
   ]
  },
  {
   "cell_type": "code",
   "execution_count": 168,
   "metadata": {},
   "outputs": [
    {
     "name": "stdout",
     "output_type": "stream",
     "text": [
      "\n",
      "Estimated Point3: \n",
      " [6. 6. 1.]\n",
      "\n",
      "EStimated Point2: \n",
      " [6. 6. 1.]\n",
      "\n",
      "Orig: \n",
      " [6. 6. 1.]\n"
     ]
    },
    {
     "name": "stderr",
     "output_type": "stream",
     "text": [
      "/Users/thatcher/Documents/Work/autocnet/autocnet/transformation/fundamental_matrix.py:341: UserWarning: Unable to apply MLE.  Not enough correspondences.  Returning with a RANSAC computed F matrix.\n",
      "  warnings.warn(\"Unable to apply MLE.  Not enough correspondences.  Returning with a RANSAC computed F matrix.\")\n"
     ]
    }
   ],
   "source": [
    "'''Setup for correct lines and runs the functions to estimate points in 3rd image'''\n",
    "\n",
    "# Init tensor\n",
    "trifocal = tf.Trifocal(simple_matrix1.T, simple_matrix2.T, simple_matrix3.T)\n",
    "\n",
    "# These work for fundamental\n",
    "f_21, mask = compute_fundamental_matrix(df_2, df_1)\n",
    "f_31, mask = compute_fundamental_matrix(df_3, df_1)\n",
    "\n",
    "# Epipolar lines 21/31\n",
    "line21 = get_lines(simple_matrix1, f_21)\n",
    "line31 = get_lines(simple_matrix1, f_31)\n",
    "\n",
    "index = 0\n",
    "\n",
    "# Gets the proper line to estimate points\n",
    "correct_line21 = get_correct_line(line21[index], simple_matrix2[index])\n",
    "correct_line31 = get_correct_line(line31[index], simple_matrix2[index])\n",
    "\n",
    "# Calculate point in 3rd image from point in 1st and line in 2nd transfer method\n",
    "# These get the correct results\n",
    "p3 = trifocal.pl_(simple_matrix1[index], correct_line21)\n",
    "p2 = trifocal.pl_(simple_matrix1[index], correct_line31)\n",
    "\n",
    "# Convert back to homogeneous\n",
    "p3_homo = np.array([p3[0]/p3[-1], p3[1]/p3[-1], p3[2]/p3[-1]])\n",
    "p2_homo = np.array([p2[0]/p2[-1], p2[1]/p2[-1], p2[2]/p2[-1]])\n",
    "\n",
    "# Estimate of point3\n",
    "print('\\nEstimated Point3: \\n', p3_homo.T)\n",
    "print('\\nEStimated Point2: \\n', p2_homo.T)\n",
    "print('\\nOrig: \\n', simple_matrix3[index])\n",
    "\n",
    "'''Plot points from matches'''\n",
    "# imshow(im2, cmap='Greys')\n",
    "# plot(p3_refined[0], p3_refined[1], 'ro')"
   ]
  },
  {
   "cell_type": "code",
   "execution_count": 176,
   "metadata": {},
   "outputs": [
    {
     "data": {
      "text/html": [
       "<h1>Estimates point from camera matricies</h1>"
      ],
      "text/plain": [
       "<IPython.core.display.HTML object>"
      ]
     },
     "metadata": {},
     "output_type": "display_data"
    },
    {
     "data": {
      "text/html": [
       "This does not work, the calculation of the camera matrix is wrong."
      ],
      "text/plain": [
       "<IPython.core.display.HTML object>"
      ]
     },
     "metadata": {},
     "output_type": "display_data"
    },
    {
     "data": {
      "text/html": [
       "<p>The tensor from the above cell should be the same or close to the same.</p>"
      ],
      "text/plain": [
       "<IPython.core.display.HTML object>"
      ]
     },
     "metadata": {},
     "output_type": "display_data"
    }
   ],
   "source": [
    "from IPython.core.display import display, HTML\n",
    "display(HTML('<h1>Estimates point from camera matricies</h1>'))\n",
    "display(HTML('This does not work, the calculation of the camera matrix is wrong.'))\n",
    "display(HTML('<p>The tensor from the above cell should be the same or close to the same.</p>'))"
   ]
  },
  {
   "cell_type": "code",
   "execution_count": 177,
   "metadata": {
    "scrolled": false
   },
   "outputs": [
    {
     "name": "stdout",
     "output_type": "stream",
     "text": [
      "Correct:\n",
      " [[[-5.01043455e-01 -9.95020006e-02 -3.81612786e-02]\n",
      "  [ 1.15897217e-01 -1.50162001e-16  9.97465999e-18]\n",
      "  [ 1.06851580e-01  6.50521303e-17  4.16333634e-17]]\n",
      "\n",
      " [[ 4.14165230e-17 -3.19424036e-02  6.28837260e-17]\n",
      "  [-4.69101051e-01  1.63952160e-02 -3.81612786e-02]\n",
      "  [-5.89805982e-17  1.06851580e-01  1.38777878e-17]]\n",
      "\n",
      " [[-5.32985858e-01 -1.63386808e-01 -7.01036822e-02]\n",
      "  [-2.37306618e-01  1.32292433e-01  7.77359380e-02]\n",
      "  [-2.55397891e-01  1.14201160e-01  6.86903016e-02]]]\n",
      "\n",
      "Not Correct:\n",
      " [[[-0.5401021  -0.13641212 -0.05112331]\n",
      "  [-0.24024885  0.02831885  0.00652929]\n",
      "  [-0.23539798  0.02316018  0.00488891]]\n",
      "\n",
      " [[-0.07956547  0.13553941 -0.13503819]\n",
      "  [-0.67169891 -0.69549002  0.4118342 ]\n",
      "  [ 0.70063662 -0.36123896  0.48706549]]\n",
      "\n",
      " [[-0.6538829  -0.0063827   0.0988621 ]\n",
      "  [-0.40375867 -0.56571858 -0.58455094]\n",
      "  [-0.50203986 -0.54909582 -0.54948617]]]\n",
      "\n",
      "Estimated Point3: \n",
      " [-0.17951451  0.84479871  1.        ]\n",
      "\n",
      "EStimated Point2: \n",
      " [-0.14031887  0.85033799  1.        ]\n",
      "\n",
      "Orig: \n",
      " [2. 2. 1.]\n"
     ]
    }
   ],
   "source": [
    "# -1 from simple_matrix2 points to use for testing\n",
    "simple_matrix1 = np.array([[0,0,1], [0,1,1], [0,2,1], [0,3,1], [0,4,1], [0,5,1],\n",
    "                           [0,6,1], [0,7,1], [1.5,1.5,1], [6,0,1], [5,0,1], [4,0,1],\n",
    "                           [3,0,1], [4,0,1], [3,3,1], [4,4,1]])\n",
    "\n",
    "# Test points to use for testing\n",
    "simple_matrix2 = np.array([[1,1,1], [1,2,1], [1,3,1], [1,4,1], [1,5,1], [1,6,1],\n",
    "                           [1,7,1], [1,8,1], [2.5,2.5,1], [7,1,1], [6,1,1], [5,1,1], [4,1,1], \n",
    "                           [5,1,1], [4,4,1], [5,5,1]])\n",
    "\n",
    "# +1 from simple_matrix2 points to use for testing\n",
    "simple_matrix3 = np.array([[2,2,1], [2,3,1], [2,4,1], [2,5,1], [2,6,1], [2,7,1],\n",
    "                           [2,8,1], [2,9,1], [3.5,3.5,1], [8,2,1], [7,2,1], [6,2,1], [5,2,1], \n",
    "                           [6,2,1], [5,5,1], [6,6,1]])\n",
    "\n",
    "# Build DataFrames from simple points\n",
    "df_1 = pd.DataFrame(simple_matrix1)\n",
    "df_2 = pd.DataFrame(simple_matrix2)\n",
    "df_3 = pd.DataFrame(simple_matrix3)\n",
    "\n",
    "# These work for fundamental\n",
    "f_21, mask = compute_fundamental_matrix(df_2, df_1)\n",
    "f_31, mask = compute_fundamental_matrix(df_3, df_1)\n",
    "f_32, mask = compute_fundamental_matrix(df_3, df_2)\n",
    "\n",
    "# Computes the camera matricies for each fundamental\n",
    "camera21 = camera.estimated_camera_from_f(f_21)\n",
    "camera31 = camera.estimated_camera_from_f(f_31)\n",
    "camera32 = camera.estimated_camera_from_f(f_32)\n",
    "\n",
    "# Unclear if this works\n",
    "trifocal2 = tf.Trifocal(camera_21[1][:3], camera_31[0][:3])\n",
    "\n",
    "print('Correct:\\n', trifocal)\n",
    "print('\\nNot Correct:\\n',trifocal2)\n",
    "\n",
    "# Epipolar lines 21/31\n",
    "line21 = get_lines(simple_matrix1, f_21)\n",
    "line31 = get_lines(simple_matrix1, f_31)\n",
    "\n",
    "index = 0\n",
    "\n",
    "# Gets the proper line to estimate points\n",
    "correct_line21 = get_correct_line(line21[index], simple_matrix2[index])\n",
    "correct_line31 = get_correct_line(line31[index], simple_matrix2[index])\n",
    "\n",
    "# Calculate point in 3rd image from point in 1st and line in 2nd transfer method\n",
    "# These get the correct results\n",
    "p3 = trifocal2.pl_(simple_matrix1[index], correct_line21)\n",
    "p2 = trifocal2.pl_(simple_matrix1[index], correct_line31)\n",
    "\n",
    "# Convert back to homogeneous\n",
    "p3_homo = np.array([p3[0]/p3[-1], p3[1]/p3[-1], p3[2]/p3[-1]])\n",
    "p2_homo = np.array([p2[0]/p2[-1], p2[1]/p2[-1], p2[2]/p2[-1]])\n",
    "\n",
    "# Estimate of point3\n",
    "print('\\nEstimated Point3: \\n', p3_homo.T)\n",
    "print('\\nEStimated Point2: \\n', p2_homo.T)\n",
    "print('\\nOrig: \\n', simple_matrix3[index])"
   ]
  },
  {
   "cell_type": "code",
   "execution_count": null,
   "metadata": {
    "scrolled": true
   },
   "outputs": [],
   "source": [
    "\n",
    "\n",
    "# size = 50\n",
    "# for i, r in e1.iterrows():\n",
    "\n",
    "#     fig, (ax1, ax2, ax3) = plt.subplots(1,3)\n",
    "#     ax1.imshow(im1[int(r.source_y-size):int(r.source_y+size), int(r.source_x-size):int(r.source_x+size)], cmap='Greys')\n",
    "#     ax2.imshow(im2[int(r.destination_y-size):int(r.destination_y+size), int(r.destination_x-size):int(r.destination_x+size)], cmap='Greys')\n",
    "#     ax3.imshow(im3[:,:], cmap='Greys')\n",
    "#     show()"
   ]
  },
  {
   "cell_type": "code",
   "execution_count": null,
   "metadata": {},
   "outputs": [],
   "source": [
    "# from autocnet.matcher.suppression_funcs import distance"
   ]
  },
  {
   "cell_type": "code",
   "execution_count": null,
   "metadata": {},
   "outputs": [],
   "source": [
    "# cg.edges[0,1]['data'].suppress(k=50, suppression_func=distance, clean_keys=['fundamental'])\n",
    "\n",
    "# # Plot, in blue the points that passed all outlier detectors so far\n",
    "# cg.edges[0,1]['data'].plot(clean_keys=['ratio', 'symmetry', 'fundamental'], line_kwargs={'linewidth':0})\n",
    "# # Overlay, in red, the points that remain after suppression\n",
    "# cg.edges[0,1]['data'].plot(clean_keys=['suppression'], line_kwargs={'linewidth':0}, scatter_kwargs={'color':'red'})"
   ]
  },
  {
   "cell_type": "code",
   "execution_count": null,
   "metadata": {},
   "outputs": [],
   "source": [
    "\n",
    "# cg.edges[0,1]['data'].suppress(k=25, suppression_func=distance, clean_keys=['fundamental'])\n",
    "\n",
    "# # Plot, in blue the points that passed all outlier detectors so far\n",
    "# cg.edges[0,1]['data'].plot(clean_keys=['ratio', 'symmetry', 'fundamental'], line_kwargs={'linewidth':0})\n",
    "# # Overlay, in red, the points that remain after suppression\n",
    "# cg.edges[0,1]['data'].plot(clean_keys=['suppression'], line_kwargs={'linewidth':0}, scatter_kwargs={'color':'red'})"
   ]
  },
  {
   "cell_type": "code",
   "execution_count": null,
   "metadata": {},
   "outputs": [],
   "source": [
    "# cg.edges[0,1]['data'].suppress(k=10, suppression_func=distance, clean_keys=['fundamental'])\n",
    "\n",
    "# # Plot, in blue the points that passed all outlier detectors so far\n",
    "# cg.edges[0,1]['data'].plot(clean_keys=['ratio', 'symmetry', 'fundamental'], line_kwargs={'linewidth':0})\n",
    "# # Overlay, in red, the points that remain after suppression\n",
    "# cg.edges[0,1]['data'].plot(clean_keys=['suppression'], line_kwargs={'linewidth':0}, scatter_kwargs={'color':'red'})"
   ]
  },
  {
   "cell_type": "code",
   "execution_count": null,
   "metadata": {},
   "outputs": [],
   "source": []
  }
 ],
 "metadata": {
  "kernelspec": {
   "display_name": "Python 3",
   "language": "python",
   "name": "python3"
  },
  "language_info": {
   "codemirror_mode": {
    "name": "ipython",
    "version": 3
   },
   "file_extension": ".py",
   "mimetype": "text/x-python",
   "name": "python",
   "nbconvert_exporter": "python",
   "pygments_lexer": "ipython3",
   "version": "3.5.5"
  }
 },
 "nbformat": 4,
 "nbformat_minor": 2
}
