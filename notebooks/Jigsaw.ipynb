{
 "cells": [
  {
   "cell_type": "markdown",
   "metadata": {},
   "source": [
    "# This notebook outputs an ISIS-friendly list file and control network which can be used for qnet and jigsaw."
   ]
  },
  {
   "cell_type": "code",
   "execution_count": 1,
   "metadata": {
    "collapsed": true
   },
   "outputs": [],
   "source": [
    "import os\n",
    "import sys\n",
    "sys.path.insert(0, os.path.abspath('..'))\n",
    "\n",
    "import unittest\n",
    "\n",
    "from autocnet.examples import get_path\n",
    "from autocnet.fileio.io_controlnetwork import to_isis\n",
    "from autocnet.fileio.io_controlnetwork import write_filelist\n",
    "from autocnet.graph.network import CandidateGraph"
   ]
  },
  {
   "cell_type": "code",
   "execution_count": 2,
   "metadata": {
    "collapsed": false
   },
   "outputs": [],
   "source": [
    "serial_numbers = {'AS15-M-0295_sub4.cub': '1971-07-31T01:24:11.754',\n",
    "                  'AS15-M-0296_sub4.cub': '1971-07-31T01:24:36.970',\n",
    "                   'AS15-M-0297_sub4.cub': '1971-07-31T01:25:02.243',\n",
    "                   'AS15-M-0298_sub4.cub': '1971-07-31T01:25:27.457',\n",
    "                'AS15-M-0299_sub4.cub': '1971-07-31T01:25:52.669',\n",
    "                'AS15-M-0300_sub4.cub': '1971-07-31T01:26:17.923'}\n",
    "for k, v in serial_numbers.items():\n",
    "            serial_numbers[k] = 'APOLLO15/METRIC/{}'.format(v)"
   ]
  },
  {
   "cell_type": "markdown",
   "metadata": {},
   "source": [
    "For the following to work, copy the cubes in `/work/projects/Apollo/METRIC/AS15/Cubes/Reduced/Sub4/REV16/AS15-M-029[5-9]_sub4.cub` to the `examples/Apollo15` directory"
   ]
  },
  {
   "cell_type": "code",
   "execution_count": 3,
   "metadata": {
    "collapsed": false
   },
   "outputs": [],
   "source": [
    "adjacency = get_path('two_image_adjacency_ISIS.json')\n",
    "basepath = get_path('Apollo15')\n",
    "cg = CandidateGraph.from_adjacency(adjacency, basepath=basepath)"
   ]
  },
  {
   "cell_type": "code",
   "execution_count": 6,
   "metadata": {
    "collapsed": true
   },
   "outputs": [],
   "source": [
    "cg.extract_features(method='sift', extractor_parameters={\"nfeatures\":500})\n",
    "cg.match_features(k=5)"
   ]
  },
  {
   "cell_type": "code",
   "execution_count": 7,
   "metadata": {
    "collapsed": false
   },
   "outputs": [],
   "source": [
    "for source, destination, edge in cg.edges_iter(data=True):\n",
    "    # Perform the symmetry check\n",
    "    edge.symmetry_check()\n",
    "\n",
    "    # Perform the ratio test\n",
    "    edge.ratio_check(ratio=0.8)\n"
   ]
  },
  {
   "cell_type": "code",
   "execution_count": 8,
   "metadata": {
    "collapsed": true
   },
   "outputs": [],
   "source": [
    "cg.compute_homographies(clean_keys=['symmetry', 'ratio'])"
   ]
  },
  {
   "cell_type": "code",
   "execution_count": 12,
   "metadata": {
    "collapsed": false
   },
   "outputs": [],
   "source": [
    "# Step: And create a C object\n",
    "cnet = cg.to_cnet(clean_keys=['symmetry', 'ratio', 'ransac'])\n",
    "\n",
    "# Step: Create a fromlist to go with the cnet and write it to a file\n",
    "filelist = cg.to_filelist()\n",
    "write_filelist(filelist, path=\"fromlis_ISIS.lis\")\n",
    "\n",
    "# Step update the serial numbers\n",
    "nid_to_serial = {}\n",
    "for i, node in cg.nodes_iter(data=True):\n",
    "    nid_to_serial[i] = serial_numbers[node.image_name]\n",
    "\n",
    "cnet.replace({'nid': nid_to_serial}, inplace=True)\n",
    "# Step: Output a control network\n",
    "to_isis('TestTwoImageMatchingISIS.net', cnet, mode='wb',\n",
    "        networkid='TestTwoImageMatching', targetname='Moon')\n"
   ]
  },
  {
   "cell_type": "markdown",
   "metadata": {},
   "source": [
    "Now, there should be a fromlis_ISIS.lis and a TestTwoImageMatchingISIS.net in the notebook's current working directory."
   ]
  },
  {
   "cell_type": "markdown",
   "metadata": {},
   "source": [
    "Using these to run the following using the current `isis3beta` completes without error (I don't know if the results make sense): \n",
    "\n",
    "    jigsaw fromlist=fromlis_ISIS.lis cnet=TestTwoImageMatchingISIS.net onet=onet.net twist=no"
   ]
  },
  {
   "cell_type": "code",
   "execution_count": null,
   "metadata": {
    "collapsed": true
   },
   "outputs": [],
   "source": []
  }
 ],
 "metadata": {
  "kernelspec": {
   "display_name": "Python 3",
   "language": "python",
   "name": "python3"
  },
  "language_info": {
   "codemirror_mode": {
    "name": "ipython",
    "version": 3
   },
   "file_extension": ".py",
   "mimetype": "text/x-python",
   "name": "python",
   "nbconvert_exporter": "python",
   "pygments_lexer": "ipython3",
   "version": "3.5.1"
  }
 },
 "nbformat": 4,
 "nbformat_minor": 0
}
