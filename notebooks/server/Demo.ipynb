{
 "cells": [
  {
   "cell_type": "code",
   "execution_count": 6,
   "metadata": {
    "collapsed": true
   },
   "outputs": [],
   "source": [
    "import os\n",
    "os.environ['autocnet_config'] = '/home/jlaura/autocnet_projects/elysium.yml'\n",
    "\n",
    "from ctypes.util import find_library\n",
    "import ctypes\n",
    "\n",
    "\n",
    "from ctypes.util import find_library\n",
    "ctypes.CDLL(find_library('usgscsm'))\n",
    "\n",
    "from autocnet.graph.network import NetworkCandidateGraph"
   ]
  },
  {
   "cell_type": "code",
   "execution_count": null,
   "metadata": {
    "collapsed": true
   },
   "outputs": [],
   "source": [
    "# First run\n",
    "import glob\n",
    "ncg = NetworkCandidateGraph.from_filelist(glob.glob('/scratch/jlaura/elysium_subset/cal/*.cub'))"
   ]
  },
  {
   "cell_type": "code",
   "execution_count": 7,
   "metadata": {
    "collapsed": true
   },
   "outputs": [],
   "source": [
    "# On subsequent runs\n",
    "ncg = NetworkCandidateGraph().from_database()"
   ]
  },
  {
   "cell_type": "code",
   "execution_count": 8,
   "metadata": {},
   "outputs": [
    {
     "data": {
      "text/plain": [
       "2877"
      ]
     },
     "execution_count": 8,
     "metadata": {},
     "output_type": "execute_result"
    }
   ],
   "source": [
    "len(ncg)"
   ]
  },
  {
   "cell_type": "raw",
   "metadata": {},
   "source": [
    "ncg.plot()  # Don't do this with ~3k nodes."
   ]
  },
  {
   "cell_type": "code",
   "execution_count": null,
   "metadata": {
    "collapsed": true
   },
   "outputs": [],
   "source": [
    "# Run the 2 sql commands in the sql directory of the autocnet repo to compute overlaps and get the overlap arrays populates"
   ]
  },
  {
   "cell_type": "code",
   "execution_count": 3,
   "metadata": {
    "collapsed": true
   },
   "outputs": [],
   "source": [
    "# This block is used to compute the overlapping polygon components and then place points into them.\n",
    "from autocnet.spatial.overlap import place_points_in_overlaps\n",
    "\n",
    "# Place points\n",
    "place_points_in_overlaps(ncg, height=-3000) # This value is good for elysium, but needs to be more granularly parameterizable\n",
    "# A bad height value results in very poor results... The height is height above (below) the sphere (the aeroid).\n",
    "# To generalize this, we would spawn a new cluster job for each geomety and pull a height dynamically from from reference"
   ]
  },
  {
   "cell_type": "code",
   "execution_count": 4,
   "metadata": {
    "collapsed": true
   },
   "outputs": [],
   "source": [
    "# This block converts the points into matches\n",
    "for s, d, e in ncg.edges(data='data'):  # intentionally in a loop so this doesn't spawn a cluster job\n",
    "    e.network_to_matches()\n",
    "    "
   ]
  },
  {
   "cell_type": "code",
   "execution_count": 5,
   "metadata": {},
   "outputs": [
    {
     "name": "stderr",
     "output_type": "stream",
     "text": [
      "/home/jlaura/autocnet/autocnet/transformation/fundamental_matrix.py:310: UserWarning: F Computation Failed.\n",
      "  warnings.warn(\"F Computation Failed.\")\n"
     ]
    }
   ],
   "source": [
    "# This block computes the fundamental matrices\n",
    "ncg.compute_fundamental_matrices(method='ransac', maskname='fundamental')"
   ]
  },
  {
   "cell_type": "code",
   "execution_count": 6,
   "metadata": {
    "collapsed": true
   },
   "outputs": [],
   "source": [
    "# This block converts the points into matches\n",
    "counters = []\n",
    "for s, d, e in ncg.edges(data='data'):  # intentionally in a loop so this doesn't spawn a cluster job\n",
    "    counters.append(e.mask_to_counter('fundamental'))"
   ]
  },
  {
   "cell_type": "code",
   "execution_count": 7,
   "metadata": {
    "collapsed": true
   },
   "outputs": [],
   "source": [
    "from collections import Counter\n",
    "from autocnet import Session\n",
    "from autocnet.io.db.model import Measures\n",
    "\n",
    "aggregate = sum(counters, Counter())\n",
    "\n",
    "# Now I need to take the output here and then look in qnet to see wtf is going on. Do we have a threshold here\n",
    "# for blowing away bad stuff? If so, where? I should probably normalize all of these too based on the number of other\n",
    "# images that they exist in. In other words, count/n-images\n",
    "to_pop = []\n",
    "session = Session()\n",
    "for k, v in aggregate.items():\n",
    "    pid = session.query(Measures).filter(Measures.id == k).first().pointid\n",
    "    nimages = len(session.query(Measures).filter(Measures.pointid == pid).all())\n",
    "    outlier_ratio = v / nimages  # This is the metric to test on (maybe?) - the ratio of the # of times the measure is \n",
    "                                  # flagged as bad to the number of measures associated with the point.\n",
    "    # These are rules that are going to need testing / vetting. Are these appropriate values?\n",
    "    if outlier_ratio <= 0.5 or (outlier_ratio <= 0.5 and nimages == 2):\n",
    "        to_pop.append(k)\n",
    "    else:\n",
    "        aggregate[k] = v / len(session.query(Measures).filter(Measures.pointid == pid).all())\n",
    "for k in to_pop:\n",
    "    aggregate.pop(k)"
   ]
  },
  {
   "cell_type": "code",
   "execution_count": 8,
   "metadata": {
    "collapsed": true
   },
   "outputs": [],
   "source": [
    "session = Session()\n",
    "make_inactive = list(aggregate.keys())\n",
    "session.query(Measures).filter(Measures.id.in_(make_inactive)).update({'active':False}, synchronize_session='fetch')\n",
    "session.commit()"
   ]
  },
  {
   "cell_type": "code",
   "execution_count": 9,
   "metadata": {
    "collapsed": true
   },
   "outputs": [],
   "source": [
    "ncg.to_isis('/scratch/jlaura/elysium_subset/demo.net')"
   ]
  },
  {
   "cell_type": "code",
   "execution_count": null,
   "metadata": {
    "collapsed": true
   },
   "outputs": [],
   "source": []
  }
 ],
 "metadata": {
  "kernelspec": {
   "display_name": "AutoCNet-Refactor",
   "language": "python",
   "name": "autocnet_refactor"
  },
  "language_info": {
   "codemirror_mode": {
    "name": "ipython",
    "version": 3
   },
   "file_extension": ".py",
   "mimetype": "text/x-python",
   "name": "python",
   "nbconvert_exporter": "python",
   "pygments_lexer": "ipython3",
   "version": "3.6.7"
  }
 },
 "nbformat": 4,
 "nbformat_minor": 2
}
