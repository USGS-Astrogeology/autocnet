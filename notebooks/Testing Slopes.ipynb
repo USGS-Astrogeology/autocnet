{
 "cells": [
  {
   "cell_type": "markdown",
   "metadata": {},
   "source": [
    "This notebook demonstrates a test of refining the fundamental matrix using the slopes between keypoints."
   ]
  },
  {
   "cell_type": "code",
   "execution_count": 1,
   "metadata": {
    "collapsed": false,
    "scrolled": true
   },
   "outputs": [
    {
     "name": "stdout",
     "output_type": "stream",
     "text": [
      "Populating the interactive namespace from numpy and matplotlib\n"
     ]
    }
   ],
   "source": [
    "import os\n",
    "import pandas as pd\n",
    "import sys\n",
    "sys.path.insert(0, os.path.abspath('..'))\n",
    "\n",
    "import unittest\n",
    "\n",
    "from autocnet.examples import get_path\n",
    "from plio.io.io_controlnetwork import to_isis\n",
    "from plio.io.io_controlnetwork import write_filelist\n",
    "from autocnet.graph.network import CandidateGraph\n",
    "from autocnet.utils import utils\n",
    "\n",
    "%pylab inline"
   ]
  },
  {
   "cell_type": "code",
   "execution_count": 2,
   "metadata": {
    "collapsed": true
   },
   "outputs": [],
   "source": [
    "serial_numbers = {'AS15-M-0295_SML.png': '1971-07-31T01:24:11.754',\n",
    "                'AS15-M-0296_SML.png': '1971-07-31T01:24:36.970',\n",
    "                'AS15-M-0297_SML.png': '1971-07-31T01:25:02.243',\n",
    "                'AS15-M-0298_SML.png': '1971-07-31T01:25:27.457',\n",
    "                'AS15-M-0299_SML.png': '1971-07-31T01:25:52.669',\n",
    "                'AS15-M-0300_SML.png': '1971-07-31T01:26:17.923'}\n",
    "\n",
    "for k, v in serial_numbers.items():\n",
    "    serial_numbers[k] = 'APOLLO15/METRIC/{}'.format(v)"
   ]
  },
  {
   "cell_type": "code",
   "execution_count": 3,
   "metadata": {
    "collapsed": true
   },
   "outputs": [],
   "source": [
    "adjacency = get_path('two_image_adjacency.json')\n",
    "basepath = get_path('Apollo15')\n",
    "cg = CandidateGraph.from_adjacency(adjacency, basepath=basepath)\n",
    "\n",
    "cg.extract_features(method='sift', extractor_parameters={\"nfeatures\":500})\n",
    "cg.match_features(k=2)"
   ]
  },
  {
   "cell_type": "code",
   "execution_count": 4,
   "metadata": {
    "collapsed": false
   },
   "outputs": [
    {
     "name": "stderr",
     "output_type": "stream",
     "text": [
      "/Users/jlaura/anaconda3/envs/autocnet/lib/python3.5/site-packages/pandas/core/frame.py:1997: UserWarning: Boolean Series key will be reindexed to match DataFrame index.\n",
      "  \"DataFrame index.\", UserWarning)\n"
     ]
    }
   ],
   "source": [
    "for source, destination, edge in cg.edges_iter(data=True):\n",
    "    # Perform the symmetry check\n",
    "    edge.symmetry_check()\n",
    "    # Perform the ratio test\n",
    "    edge.ratio_check(clean_keys=['symmetry'])"
   ]
  },
  {
   "cell_type": "code",
   "execution_count": 5,
   "metadata": {
    "collapsed": false
   },
   "outputs": [],
   "source": [
    "cg.apply_func_to_edges(\"compute_fundamental_matrix\", clean_keys=['symmetry', 'ratio'])"
   ]
  },
  {
   "cell_type": "code",
   "execution_count": 6,
   "metadata": {
    "collapsed": false
   },
   "outputs": [],
   "source": [
    "f = cg.edge[0][1].fundamental_matrix"
   ]
  },
  {
   "cell_type": "code",
   "execution_count": 8,
   "metadata": {
    "collapsed": false
   },
   "outputs": [
    {
     "data": {
      "text/plain": [
       "11"
      ]
     },
     "execution_count": 8,
     "metadata": {},
     "output_type": "execute_result"
    }
   ],
   "source": [
    "df=utils.calculate_slope(f.x1, f.x2)\n",
    "len(np.asarray(df).ravel())"
   ]
  },
  {
   "cell_type": "code",
   "execution_count": 9,
   "metadata": {
    "collapsed": false,
    "scrolled": true
   },
   "outputs": [
    {
     "data": {
      "text/plain": [
       "True"
      ]
     },
     "execution_count": 9,
     "metadata": {},
     "output_type": "execute_result"
    }
   ],
   "source": [
    "f.mask[f.mask==True].equals(f.mask[f.mask])"
   ]
  },
  {
   "cell_type": "code",
   "execution_count": 10,
   "metadata": {
    "collapsed": false
   },
   "outputs": [],
   "source": [
    "nbr_inliers = 20\n",
    "fp = np.array(np.random.standard_normal((nbr_inliers, 2)))  # inliers\n",
    "static_F = np.array([[4, 0.5, 10], [0.25, 1, 5], [0.2, 0.1, 1]])\n",
    "fph = np.hstack((fp, np.ones((nbr_inliers, 1))))\n",
    "tp = static_F.dot(fph.T)\n",
    "# normalize hom. coordinates\n",
    "tp /= tp[-1, :np.newaxis]\n",
    "df1 = pd.DataFrame(fp, columns=['x', 'y'])\n",
    "df2 = pd.DataFrame(tp.T[:, :2], columns=['x', 'y'])"
   ]
  },
  {
   "cell_type": "code",
   "execution_count": 11,
   "metadata": {
    "collapsed": false,
    "scrolled": true
   },
   "outputs": [
    {
     "data": {
      "text/html": [
       "<div>\n",
       "<table border=\"1\" class=\"dataframe\">\n",
       "  <thead>\n",
       "    <tr style=\"text-align: right;\">\n",
       "      <th></th>\n",
       "      <th>x</th>\n",
       "      <th>y</th>\n",
       "    </tr>\n",
       "  </thead>\n",
       "  <tbody>\n",
       "    <tr>\n",
       "      <th>0</th>\n",
       "      <td>1.633181</td>\n",
       "      <td>0.662958</td>\n",
       "    </tr>\n",
       "    <tr>\n",
       "      <th>1</th>\n",
       "      <td>-0.652132</td>\n",
       "      <td>0.815878</td>\n",
       "    </tr>\n",
       "    <tr>\n",
       "      <th>2</th>\n",
       "      <td>-0.438907</td>\n",
       "      <td>1.047533</td>\n",
       "    </tr>\n",
       "    <tr>\n",
       "      <th>3</th>\n",
       "      <td>-0.339436</td>\n",
       "      <td>1.383948</td>\n",
       "    </tr>\n",
       "    <tr>\n",
       "      <th>4</th>\n",
       "      <td>-0.958286</td>\n",
       "      <td>0.682298</td>\n",
       "    </tr>\n",
       "    <tr>\n",
       "      <th>5</th>\n",
       "      <td>0.235437</td>\n",
       "      <td>-0.778398</td>\n",
       "    </tr>\n",
       "    <tr>\n",
       "      <th>6</th>\n",
       "      <td>-0.456880</td>\n",
       "      <td>-1.248944</td>\n",
       "    </tr>\n",
       "    <tr>\n",
       "      <th>7</th>\n",
       "      <td>0.235843</td>\n",
       "      <td>-0.454797</td>\n",
       "    </tr>\n",
       "    <tr>\n",
       "      <th>8</th>\n",
       "      <td>-0.189979</td>\n",
       "      <td>2.118751</td>\n",
       "    </tr>\n",
       "    <tr>\n",
       "      <th>9</th>\n",
       "      <td>0.944133</td>\n",
       "      <td>0.408296</td>\n",
       "    </tr>\n",
       "    <tr>\n",
       "      <th>10</th>\n",
       "      <td>-0.337530</td>\n",
       "      <td>-1.455450</td>\n",
       "    </tr>\n",
       "    <tr>\n",
       "      <th>11</th>\n",
       "      <td>-0.835177</td>\n",
       "      <td>0.469812</td>\n",
       "    </tr>\n",
       "    <tr>\n",
       "      <th>12</th>\n",
       "      <td>0.764976</td>\n",
       "      <td>1.178681</td>\n",
       "    </tr>\n",
       "    <tr>\n",
       "      <th>13</th>\n",
       "      <td>2.096332</td>\n",
       "      <td>0.580255</td>\n",
       "    </tr>\n",
       "    <tr>\n",
       "      <th>14</th>\n",
       "      <td>0.780332</td>\n",
       "      <td>-1.046638</td>\n",
       "    </tr>\n",
       "    <tr>\n",
       "      <th>15</th>\n",
       "      <td>0.325916</td>\n",
       "      <td>0.629410</td>\n",
       "    </tr>\n",
       "    <tr>\n",
       "      <th>16</th>\n",
       "      <td>-0.780760</td>\n",
       "      <td>0.846021</td>\n",
       "    </tr>\n",
       "    <tr>\n",
       "      <th>17</th>\n",
       "      <td>0.477673</td>\n",
       "      <td>0.395407</td>\n",
       "    </tr>\n",
       "    <tr>\n",
       "      <th>18</th>\n",
       "      <td>1.575866</td>\n",
       "      <td>0.773803</td>\n",
       "    </tr>\n",
       "    <tr>\n",
       "      <th>19</th>\n",
       "      <td>-0.036507</td>\n",
       "      <td>0.557871</td>\n",
       "    </tr>\n",
       "  </tbody>\n",
       "</table>\n",
       "</div>"
      ],
      "text/plain": [
       "           x         y\n",
       "0   1.633181  0.662958\n",
       "1  -0.652132  0.815878\n",
       "2  -0.438907  1.047533\n",
       "3  -0.339436  1.383948\n",
       "4  -0.958286  0.682298\n",
       "5   0.235437 -0.778398\n",
       "6  -0.456880 -1.248944\n",
       "7   0.235843 -0.454797\n",
       "8  -0.189979  2.118751\n",
       "9   0.944133  0.408296\n",
       "10 -0.337530 -1.455450\n",
       "11 -0.835177  0.469812\n",
       "12  0.764976  1.178681\n",
       "13  2.096332  0.580255\n",
       "14  0.780332 -1.046638\n",
       "15  0.325916  0.629410\n",
       "16 -0.780760  0.846021\n",
       "17  0.477673  0.395407\n",
       "18  1.575866  0.773803\n",
       "19 -0.036507  0.557871"
      ]
     },
     "execution_count": 11,
     "metadata": {},
     "output_type": "execute_result"
    }
   ],
   "source": [
    "df1"
   ]
  },
  {
   "cell_type": "code",
   "execution_count": 12,
   "metadata": {
    "collapsed": false
   },
   "outputs": [
    {
     "data": {
      "text/html": [
       "<div>\n",
       "<table border=\"1\" class=\"dataframe\">\n",
       "  <thead>\n",
       "    <tr style=\"text-align: right;\">\n",
       "      <th></th>\n",
       "      <th>x</th>\n",
       "      <th>y</th>\n",
       "    </tr>\n",
       "  </thead>\n",
       "  <tbody>\n",
       "    <tr>\n",
       "      <th>0</th>\n",
       "      <td>12.106982</td>\n",
       "      <td>4.358614</td>\n",
       "    </tr>\n",
       "    <tr>\n",
       "      <th>1</th>\n",
       "      <td>8.199881</td>\n",
       "      <td>5.943098</td>\n",
       "    </tr>\n",
       "    <tr>\n",
       "      <th>2</th>\n",
       "      <td>8.621809</td>\n",
       "      <td>5.838713</td>\n",
       "    </tr>\n",
       "    <tr>\n",
       "      <th>3</th>\n",
       "      <td>8.719442</td>\n",
       "      <td>5.884208</td>\n",
       "    </tr>\n",
       "    <tr>\n",
       "      <th>4</th>\n",
       "      <td>7.424377</td>\n",
       "      <td>6.209099</td>\n",
       "    </tr>\n",
       "    <tr>\n",
       "      <th>5</th>\n",
       "      <td>10.887362</td>\n",
       "      <td>4.416272</td>\n",
       "    </tr>\n",
       "    <tr>\n",
       "      <th>6</th>\n",
       "      <td>9.630884</td>\n",
       "      <td>4.640421</td>\n",
       "    </tr>\n",
       "    <tr>\n",
       "      <th>7</th>\n",
       "      <td>10.697907</td>\n",
       "      <td>4.596401</td>\n",
       "    </tr>\n",
       "    <tr>\n",
       "      <th>8</th>\n",
       "      <td>8.773865</td>\n",
       "      <td>6.023836</td>\n",
       "    </tr>\n",
       "    <tr>\n",
       "      <th>9</th>\n",
       "      <td>11.369585</td>\n",
       "      <td>4.590168</td>\n",
       "    </tr>\n",
       "    <tr>\n",
       "      <th>10</th>\n",
       "      <td>10.066923</td>\n",
       "      <td>4.396940</td>\n",
       "    </tr>\n",
       "    <tr>\n",
       "      <th>11</th>\n",
       "      <td>7.834798</td>\n",
       "      <td>5.978798</td>\n",
       "    </tr>\n",
       "    <tr>\n",
       "      <th>12</th>\n",
       "      <td>10.740136</td>\n",
       "      <td>5.012282</td>\n",
       "    </tr>\n",
       "    <tr>\n",
       "      <th>13</th>\n",
       "      <td>12.641683</td>\n",
       "      <td>4.132114</td>\n",
       "    </tr>\n",
       "    <tr>\n",
       "      <th>14</th>\n",
       "      <td>11.982098</td>\n",
       "      <td>3.945629</td>\n",
       "    </tr>\n",
       "    <tr>\n",
       "      <th>15</th>\n",
       "      <td>10.298838</td>\n",
       "      <td>5.062288</td>\n",
       "    </tr>\n",
       "    <tr>\n",
       "      <th>16</th>\n",
       "      <td>7.862533</td>\n",
       "      <td>6.086306</td>\n",
       "    </tr>\n",
       "    <tr>\n",
       "      <th>17</th>\n",
       "      <td>10.667482</td>\n",
       "      <td>4.858555</td>\n",
       "    </tr>\n",
       "    <tr>\n",
       "      <th>18</th>\n",
       "      <td>11.985440</td>\n",
       "      <td>4.429107</td>\n",
       "    </tr>\n",
       "    <tr>\n",
       "      <th>19</th>\n",
       "      <td>9.664326</td>\n",
       "      <td>5.292150</td>\n",
       "    </tr>\n",
       "  </tbody>\n",
       "</table>\n",
       "</div>"
      ],
      "text/plain": [
       "            x         y\n",
       "0   12.106982  4.358614\n",
       "1    8.199881  5.943098\n",
       "2    8.621809  5.838713\n",
       "3    8.719442  5.884208\n",
       "4    7.424377  6.209099\n",
       "5   10.887362  4.416272\n",
       "6    9.630884  4.640421\n",
       "7   10.697907  4.596401\n",
       "8    8.773865  6.023836\n",
       "9   11.369585  4.590168\n",
       "10  10.066923  4.396940\n",
       "11   7.834798  5.978798\n",
       "12  10.740136  5.012282\n",
       "13  12.641683  4.132114\n",
       "14  11.982098  3.945629\n",
       "15  10.298838  5.062288\n",
       "16   7.862533  6.086306\n",
       "17  10.667482  4.858555\n",
       "18  11.985440  4.429107\n",
       "19   9.664326  5.292150"
      ]
     },
     "execution_count": 12,
     "metadata": {},
     "output_type": "execute_result"
    }
   ],
   "source": [
    "df2"
   ]
  },
  {
   "cell_type": "code",
   "execution_count": 13,
   "metadata": {
    "collapsed": false
   },
   "outputs": [
    {
     "data": {
      "text/plain": [
       "0      True\n",
       "1     False\n",
       "2     False\n",
       "3     False\n",
       "4     False\n",
       "5      True\n",
       "6     False\n",
       "7      True\n",
       "8     False\n",
       "9      True\n",
       "10    False\n",
       "11    False\n",
       "12     True\n",
       "13     True\n",
       "14     True\n",
       "15     True\n",
       "16    False\n",
       "17     True\n",
       "18     True\n",
       "19    False\n",
       "Name: x, dtype: bool"
      ]
     },
     "execution_count": 13,
     "metadata": {},
     "output_type": "execute_result"
    }
   ],
   "source": [
    "mask = df1.x > 0\n",
    "mask"
   ]
  },
  {
   "cell_type": "code",
   "execution_count": 14,
   "metadata": {
    "collapsed": false
   },
   "outputs": [
    {
     "data": {
      "text/html": [
       "<div>\n",
       "<table border=\"1\" class=\"dataframe\">\n",
       "  <thead>\n",
       "    <tr style=\"text-align: right;\">\n",
       "      <th></th>\n",
       "      <th>x</th>\n",
       "      <th>y</th>\n",
       "    </tr>\n",
       "  </thead>\n",
       "  <tbody>\n",
       "    <tr>\n",
       "      <th>0</th>\n",
       "      <td>1.633181</td>\n",
       "      <td>0.662958</td>\n",
       "    </tr>\n",
       "    <tr>\n",
       "      <th>5</th>\n",
       "      <td>0.235437</td>\n",
       "      <td>-0.778398</td>\n",
       "    </tr>\n",
       "    <tr>\n",
       "      <th>7</th>\n",
       "      <td>0.235843</td>\n",
       "      <td>-0.454797</td>\n",
       "    </tr>\n",
       "    <tr>\n",
       "      <th>9</th>\n",
       "      <td>0.944133</td>\n",
       "      <td>0.408296</td>\n",
       "    </tr>\n",
       "    <tr>\n",
       "      <th>12</th>\n",
       "      <td>0.764976</td>\n",
       "      <td>1.178681</td>\n",
       "    </tr>\n",
       "    <tr>\n",
       "      <th>13</th>\n",
       "      <td>2.096332</td>\n",
       "      <td>0.580255</td>\n",
       "    </tr>\n",
       "    <tr>\n",
       "      <th>14</th>\n",
       "      <td>0.780332</td>\n",
       "      <td>-1.046638</td>\n",
       "    </tr>\n",
       "    <tr>\n",
       "      <th>15</th>\n",
       "      <td>0.325916</td>\n",
       "      <td>0.629410</td>\n",
       "    </tr>\n",
       "    <tr>\n",
       "      <th>17</th>\n",
       "      <td>0.477673</td>\n",
       "      <td>0.395407</td>\n",
       "    </tr>\n",
       "    <tr>\n",
       "      <th>18</th>\n",
       "      <td>1.575866</td>\n",
       "      <td>0.773803</td>\n",
       "    </tr>\n",
       "  </tbody>\n",
       "</table>\n",
       "</div>"
      ],
      "text/plain": [
       "           x         y\n",
       "0   1.633181  0.662958\n",
       "5   0.235437 -0.778398\n",
       "7   0.235843 -0.454797\n",
       "9   0.944133  0.408296\n",
       "12  0.764976  1.178681\n",
       "13  2.096332  0.580255\n",
       "14  0.780332 -1.046638\n",
       "15  0.325916  0.629410\n",
       "17  0.477673  0.395407\n",
       "18  1.575866  0.773803"
      ]
     },
     "execution_count": 14,
     "metadata": {},
     "output_type": "execute_result"
    }
   ],
   "source": [
    "df1[mask]"
   ]
  },
  {
   "cell_type": "code",
   "execution_count": 15,
   "metadata": {
    "collapsed": false,
    "scrolled": true
   },
   "outputs": [
    {
     "data": {
      "text/html": [
       "<div>\n",
       "<table border=\"1\" class=\"dataframe\">\n",
       "  <thead>\n",
       "    <tr style=\"text-align: right;\">\n",
       "      <th></th>\n",
       "      <th>x</th>\n",
       "      <th>y</th>\n",
       "    </tr>\n",
       "  </thead>\n",
       "  <tbody>\n",
       "    <tr>\n",
       "      <th>0</th>\n",
       "      <td>12.106982</td>\n",
       "      <td>4.358614</td>\n",
       "    </tr>\n",
       "    <tr>\n",
       "      <th>5</th>\n",
       "      <td>10.887362</td>\n",
       "      <td>4.416272</td>\n",
       "    </tr>\n",
       "    <tr>\n",
       "      <th>7</th>\n",
       "      <td>10.697907</td>\n",
       "      <td>4.596401</td>\n",
       "    </tr>\n",
       "    <tr>\n",
       "      <th>9</th>\n",
       "      <td>11.369585</td>\n",
       "      <td>4.590168</td>\n",
       "    </tr>\n",
       "    <tr>\n",
       "      <th>12</th>\n",
       "      <td>10.740136</td>\n",
       "      <td>5.012282</td>\n",
       "    </tr>\n",
       "    <tr>\n",
       "      <th>13</th>\n",
       "      <td>12.641683</td>\n",
       "      <td>4.132114</td>\n",
       "    </tr>\n",
       "    <tr>\n",
       "      <th>14</th>\n",
       "      <td>11.982098</td>\n",
       "      <td>3.945629</td>\n",
       "    </tr>\n",
       "    <tr>\n",
       "      <th>15</th>\n",
       "      <td>10.298838</td>\n",
       "      <td>5.062288</td>\n",
       "    </tr>\n",
       "    <tr>\n",
       "      <th>17</th>\n",
       "      <td>10.667482</td>\n",
       "      <td>4.858555</td>\n",
       "    </tr>\n",
       "    <tr>\n",
       "      <th>18</th>\n",
       "      <td>11.985440</td>\n",
       "      <td>4.429107</td>\n",
       "    </tr>\n",
       "  </tbody>\n",
       "</table>\n",
       "</div>"
      ],
      "text/plain": [
       "            x         y\n",
       "0   12.106982  4.358614\n",
       "5   10.887362  4.416272\n",
       "7   10.697907  4.596401\n",
       "9   11.369585  4.590168\n",
       "12  10.740136  5.012282\n",
       "13  12.641683  4.132114\n",
       "14  11.982098  3.945629\n",
       "15  10.298838  5.062288\n",
       "17  10.667482  4.858555\n",
       "18  11.985440  4.429107"
      ]
     },
     "execution_count": 15,
     "metadata": {},
     "output_type": "execute_result"
    }
   ],
   "source": [
    "df2[mask]"
   ]
  },
  {
   "cell_type": "code",
   "execution_count": 16,
   "metadata": {
    "collapsed": true
   },
   "outputs": [],
   "source": [
    "df1[mask] = df2[mask]"
   ]
  },
  {
   "cell_type": "code",
   "execution_count": 17,
   "metadata": {
    "collapsed": false
   },
   "outputs": [
    {
     "data": {
      "text/html": [
       "<div>\n",
       "<table border=\"1\" class=\"dataframe\">\n",
       "  <thead>\n",
       "    <tr style=\"text-align: right;\">\n",
       "      <th></th>\n",
       "      <th>x</th>\n",
       "      <th>y</th>\n",
       "    </tr>\n",
       "  </thead>\n",
       "  <tbody>\n",
       "    <tr>\n",
       "      <th>0</th>\n",
       "      <td>12.106982</td>\n",
       "      <td>4.358614</td>\n",
       "    </tr>\n",
       "    <tr>\n",
       "      <th>1</th>\n",
       "      <td>-0.652132</td>\n",
       "      <td>0.815878</td>\n",
       "    </tr>\n",
       "    <tr>\n",
       "      <th>2</th>\n",
       "      <td>-0.438907</td>\n",
       "      <td>1.047533</td>\n",
       "    </tr>\n",
       "    <tr>\n",
       "      <th>3</th>\n",
       "      <td>-0.339436</td>\n",
       "      <td>1.383948</td>\n",
       "    </tr>\n",
       "    <tr>\n",
       "      <th>4</th>\n",
       "      <td>-0.958286</td>\n",
       "      <td>0.682298</td>\n",
       "    </tr>\n",
       "    <tr>\n",
       "      <th>5</th>\n",
       "      <td>10.887362</td>\n",
       "      <td>4.416272</td>\n",
       "    </tr>\n",
       "    <tr>\n",
       "      <th>6</th>\n",
       "      <td>-0.456880</td>\n",
       "      <td>-1.248944</td>\n",
       "    </tr>\n",
       "    <tr>\n",
       "      <th>7</th>\n",
       "      <td>10.697907</td>\n",
       "      <td>4.596401</td>\n",
       "    </tr>\n",
       "    <tr>\n",
       "      <th>8</th>\n",
       "      <td>-0.189979</td>\n",
       "      <td>2.118751</td>\n",
       "    </tr>\n",
       "    <tr>\n",
       "      <th>9</th>\n",
       "      <td>11.369585</td>\n",
       "      <td>4.590168</td>\n",
       "    </tr>\n",
       "    <tr>\n",
       "      <th>10</th>\n",
       "      <td>-0.337530</td>\n",
       "      <td>-1.455450</td>\n",
       "    </tr>\n",
       "    <tr>\n",
       "      <th>11</th>\n",
       "      <td>-0.835177</td>\n",
       "      <td>0.469812</td>\n",
       "    </tr>\n",
       "    <tr>\n",
       "      <th>12</th>\n",
       "      <td>10.740136</td>\n",
       "      <td>5.012282</td>\n",
       "    </tr>\n",
       "    <tr>\n",
       "      <th>13</th>\n",
       "      <td>12.641683</td>\n",
       "      <td>4.132114</td>\n",
       "    </tr>\n",
       "    <tr>\n",
       "      <th>14</th>\n",
       "      <td>11.982098</td>\n",
       "      <td>3.945629</td>\n",
       "    </tr>\n",
       "    <tr>\n",
       "      <th>15</th>\n",
       "      <td>10.298838</td>\n",
       "      <td>5.062288</td>\n",
       "    </tr>\n",
       "    <tr>\n",
       "      <th>16</th>\n",
       "      <td>-0.780760</td>\n",
       "      <td>0.846021</td>\n",
       "    </tr>\n",
       "    <tr>\n",
       "      <th>17</th>\n",
       "      <td>10.667482</td>\n",
       "      <td>4.858555</td>\n",
       "    </tr>\n",
       "    <tr>\n",
       "      <th>18</th>\n",
       "      <td>11.985440</td>\n",
       "      <td>4.429107</td>\n",
       "    </tr>\n",
       "    <tr>\n",
       "      <th>19</th>\n",
       "      <td>-0.036507</td>\n",
       "      <td>0.557871</td>\n",
       "    </tr>\n",
       "  </tbody>\n",
       "</table>\n",
       "</div>"
      ],
      "text/plain": [
       "            x         y\n",
       "0   12.106982  4.358614\n",
       "1   -0.652132  0.815878\n",
       "2   -0.438907  1.047533\n",
       "3   -0.339436  1.383948\n",
       "4   -0.958286  0.682298\n",
       "5   10.887362  4.416272\n",
       "6   -0.456880 -1.248944\n",
       "7   10.697907  4.596401\n",
       "8   -0.189979  2.118751\n",
       "9   11.369585  4.590168\n",
       "10  -0.337530 -1.455450\n",
       "11  -0.835177  0.469812\n",
       "12  10.740136  5.012282\n",
       "13  12.641683  4.132114\n",
       "14  11.982098  3.945629\n",
       "15  10.298838  5.062288\n",
       "16  -0.780760  0.846021\n",
       "17  10.667482  4.858555\n",
       "18  11.985440  4.429107\n",
       "19  -0.036507  0.557871"
      ]
     },
     "execution_count": 17,
     "metadata": {},
     "output_type": "execute_result"
    }
   ],
   "source": [
    "df1"
   ]
  }
 ],
 "metadata": {
  "kernelspec": {
   "display_name": "Python 3",
   "language": "python",
   "name": "python3"
  },
  "language_info": {
   "codemirror_mode": {
    "name": "ipython",
    "version": 3
   },
   "file_extension": ".py",
   "mimetype": "text/x-python",
   "name": "python",
   "nbconvert_exporter": "python",
   "pygments_lexer": "ipython3",
   "version": "3.5.2"
  }
 },
 "nbformat": 4,
 "nbformat_minor": 0
}
