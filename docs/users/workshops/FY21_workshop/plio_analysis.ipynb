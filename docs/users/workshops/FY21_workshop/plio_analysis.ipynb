{
 "cells": [
  {
   "cell_type": "markdown",
   "metadata": {},
   "source": [
    "# Using PLIO to analyze control networks\n",
    "PLIO is a general purpose library for reading data from various sources. In this workshop, we will be using PLIO's ability to read ISIS control networks into a Pandas dataframe."
   ]
  },
  {
   "cell_type": "code",
   "execution_count": null,
   "metadata": {
    "collapsed": true
   },
   "outputs": [],
   "source": [
    "# This allows us to interact with our plots. This must be set before importing pyplot\n",
    "%matplotlib notebook\n",
    "\n",
    "# PLIO uses pysis for some other things. We don't technically need this but it avoids a warning.\n",
    "import os\n",
    "os.environ['ISISROOT'] = '/usgs/cpkgs/anaconda3_linux/envs/isis4.3.0'\n",
    "os.environ['ISISDATA'] = '/usgs/cpkgs/isis3/isis_data'\n",
    "\n",
    "# This function is what reads a control network file\n",
    "from plio.io.io_controlnetwork import from_isis\n",
    "\n",
    "# General plotting library\n",
    "import matplotlib\n",
    "import matplotlib.pyplot as plt\n",
    "\n",
    "# 3D plotting toolkit for matplotlib\n",
    "from mpl_toolkits.mplot3d import Axes3D\n",
    "\n",
    "# Numerical Python library\n",
    "import numpy as np\n",
    "\n",
    "# Statistics library\n",
    "from scipy import stats\n",
    "\n",
    "# Projection library for switching between rectangular and latitudinal\n",
    "import pyproj"
   ]
  },
  {
   "cell_type": "markdown",
   "metadata": {},
   "source": [
    "# Our networks\n",
    "All of this data was generously provided by Lynn Weller and Mike Bland from their Europa control project.\n",
    "\n",
    "The first network is a very rough starting point. The Galileo images of Europa were put through the [findfeatures](https://isis.astrogeology.usgs.gov/Application/presentation/Tabbed/findfeatures/findfeatures.html) application and then all of the resulting networks were merged together. This network has many known issues including islands, massive residuals, and poor coverage.\n",
    "\n",
    "The second network is the final network containing Galileo and Voyager images of Europa. The issues from the initial network have been resolved and the final point cloud covers the majority of the body."
   ]
  },
  {
   "cell_type": "code",
   "execution_count": null,
   "metadata": {
    "collapsed": true
   },
   "outputs": [],
   "source": [
    "galileo_net = '/scratch/jmapel/europa/networks/GLL_FFCombined_thin_SubReg2_Del_2.net'\n",
    "final_net = '/scratch/jmapel/europa/networks/GalileoVoyager_Europa_Merged_2020_CilixFree.net'"
   ]
  },
  {
   "cell_type": "markdown",
   "metadata": {},
   "source": [
    "# The control network dataframe\n",
    "\n",
    "PLIO directly ingests the data from the control network file. Each row in the dataframe is a single control measure and each column is a field from the protobuf control network. The data for control points is stored implicitly in its measures."
   ]
  },
  {
   "cell_type": "code",
   "execution_count": null,
   "metadata": {},
   "outputs": [],
   "source": [
    "galileo_df = from_isis(galileo_net)\n",
    "galileo_df.describe()"
   ]
  },
  {
   "cell_type": "markdown",
   "metadata": {},
   "source": [
    "### Exercise: How many measures are there in the network? How many points are there in the network? How many images are there in the network?\n",
    "\n",
    "tip: use len(dataframe) to find the number of rows in a dataframe\n",
    "\n",
    "tip: use dataframe[\"columnName\"].nunique() to find the number of unique values in a column"
   ]
  },
  {
   "cell_type": "code",
   "execution_count": null,
   "metadata": {
    "collapsed": true
   },
   "outputs": [],
   "source": []
  },
  {
   "cell_type": "markdown",
   "metadata": {},
   "source": [
    "The protobuf control measures and control points use some of the same field names, so these fields are prefixed with point\\* or measure\\* (E.G. pointType and measureType)."
   ]
  },
  {
   "cell_type": "code",
   "execution_count": null,
   "metadata": {
    "scrolled": false
   },
   "outputs": [],
   "source": [
    "list(galileo_df.columns)"
   ]
  },
  {
   "cell_type": "markdown",
   "metadata": {},
   "source": [
    "## Data types\n",
    "The different columns of our dataframe store different types of data. You can look back at the original protobuf descriptions or just look directly at the data types in the dataframe."
   ]
  },
  {
   "cell_type": "code",
   "execution_count": null,
   "metadata": {},
   "outputs": [],
   "source": [
    "galileo_df.dtypes"
   ]
  },
  {
   "cell_type": "markdown",
   "metadata": {},
   "source": [
    "Most of the column data types are intuitive but there are several that need explanation"
   ]
  },
  {
   "cell_type": "markdown",
   "metadata": {},
   "source": [
    "**pointType, measureType, aprioriSurfPointSource, and aprioriRadiusSource** are int64 data, but actually these are enumerations. For example, a pointType of 2 means Free. For now, you has to use the actual protobuf code to convert them but we are working to add this directly to PLIO."
   ]
  },
  {
   "cell_type": "code",
   "execution_count": null,
   "metadata": {},
   "outputs": [],
   "source": [
    "galileo_df[['pointType', 'measureType', 'aprioriSurfPointSource']].head()"
   ]
  },
  {
   "cell_type": "code",
   "execution_count": null,
   "metadata": {},
   "outputs": [],
   "source": [
    "from plio.io.ControlPointFileEntryV0005_pb2 import ControlPointFileEntryV0005 as protoPoint\n",
    "print(f'A pointType value of 2 is named {protoPoint.PointType.Name(2)}')\n",
    "print(f'A measureType named RegisteredSubPixel has a value of {protoPoint.Measure.MeasureType.Value(\"RegisteredSubPixel\")}')\n",
    "print(f'An aprioriSurfPointSource value of 0 is named {protoPoint.AprioriSource.Name(0)}')\n",
    "print('')\n",
    "print('pointType names and values')\n",
    "print('==========================')\n",
    "for value in protoPoint.PointType.values():\n",
    "    print(f'{value} | {protoPoint.PointType.Name(value)}')\n",
    "print('')\n",
    "\n",
    "print('measureType names and values')\n",
    "print('============================')\n",
    "for value in protoPoint.Measure.MeasureType.values():\n",
    "    print(f'{value} | {protoPoint.Measure.MeasureType.Name(value)}')\n",
    "print('')\n",
    "    \n",
    "print('aprioriSurfPointSource/aprioriRadiusSource names and values')\n",
    "print('===========================================================')\n",
    "for value in protoPoint.AprioriSource.values():\n",
    "    print(f'{value} | {protoPoint.AprioriSource.Name(value)}')"
   ]
  },
  {
   "cell_type": "markdown",
   "metadata": {},
   "source": [
    "### Exercise: Have any measure in this network been sub-pixel registered?\n",
    "\n",
    "tip: look at the measure types"
   ]
  },
  {
   "cell_type": "code",
   "execution_count": null,
   "metadata": {
    "collapsed": true
   },
   "outputs": [],
   "source": []
  },
  {
   "cell_type": "markdown",
   "metadata": {},
   "source": [
    "**id, pointChoosername, pointDatetime, aprioriSurfPointSourceFile, aprioriRadiusSourceFile, serialnumber, measureChoosername, and measureDatetime** are all listed as objects but are simply strings."
   ]
  },
  {
   "cell_type": "code",
   "execution_count": null,
   "metadata": {},
   "outputs": [],
   "source": [
    "galileo_df[['id', 'serialnumber', 'pointChoosername', 'pointDatetime', 'measureChoosername', 'measureDatetime']].head()"
   ]
  },
  {
   "cell_type": "markdown",
   "metadata": {
    "collapsed": true
   },
   "source": [
    "**adjustedCovar, pointLog, and measureLog** are more complicated. We will go over adjustedCovar later with the final Euroap network. pointLog is leftover from older network formats and can be ignored. measureLog contains information about the registration of the measure."
   ]
  },
  {
   "cell_type": "code",
   "execution_count": null,
   "metadata": {},
   "outputs": [],
   "source": [
    "galileo_df.loc[1,'measureLog']"
   ]
  },
  {
   "cell_type": "markdown",
   "metadata": {},
   "source": [
    "## Data availability\n",
    "Depending on how your network was generated and what processing has been done, many fields will not be set. If a numerical field has a value of 0, then it has not been set. For example, in our network has not been bundle adjusted, so there are only apriori ground points."
   ]
  },
  {
   "cell_type": "code",
   "execution_count": null,
   "metadata": {},
   "outputs": [],
   "source": [
    "galileo_df[['aprioriX', 'aprioriY', 'aprioriZ', 'adjustedX', 'adjustedY', 'adjustedZ']].describe()"
   ]
  },
  {
   "cell_type": "markdown",
   "metadata": {},
   "source": [
    "### Exercise: Can you find all of the fields that are completely unset in our control network?\n",
    "\n",
    "tip: numerical fields default to 0, strings default to an empty string \"\", boolean values default to False, and enums default to their first value."
   ]
  },
  {
   "cell_type": "code",
   "execution_count": null,
   "metadata": {
    "collapsed": true
   },
   "outputs": [],
   "source": []
  },
  {
   "cell_type": "markdown",
   "metadata": {},
   "source": [
    "# Looking at bundle adjust results\n",
    "\n",
    "Our Galileo network is interesting but networks have significantly more useful information in them after bundle adjustment. So, let's take a look at the final Europa network."
   ]
  },
  {
   "cell_type": "code",
   "execution_count": null,
   "metadata": {
    "scrolled": false
   },
   "outputs": [],
   "source": [
    "final_net_df = from_isis(final_net)\n",
    "final_net_df.describe()"
   ]
  },
  {
   "cell_type": "markdown",
   "metadata": {},
   "source": [
    "### Exercise: What fields are set in the bundle adjusted network that weren't previously?"
   ]
  },
  {
   "cell_type": "code",
   "execution_count": null,
   "metadata": {
    "collapsed": true
   },
   "outputs": [],
   "source": []
  },
  {
   "cell_type": "markdown",
   "metadata": {},
   "source": [
    "## Analyzing the measures\n",
    "The data in a control network dataframe is not always in the format we want to work with. The measure residuals are broken down into the line and sample residuals. The following cells compute the full magnitude of the residuals and adds it to the dataframe. Then, they plot the residuals and color points by the magnitude of the residuals."
   ]
  },
  {
   "cell_type": "code",
   "execution_count": null,
   "metadata": {
    "collapsed": true
   },
   "outputs": [],
   "source": [
    "final_net_df['residualMag'] = np.sqrt(final_net_df['sampleResidual']**2 + final_net_df['lineResidual']**2)"
   ]
  },
  {
   "cell_type": "code",
   "execution_count": null,
   "metadata": {
    "scrolled": false
   },
   "outputs": [],
   "source": [
    "resid_fig = plt.figure(figsize=(6, 6))\n",
    "resid_ax = resid_fig.add_subplot(111)\n",
    "resid_scatter = resid_ax.scatter(final_net_df['sampleResidual'], final_net_df['lineResidual'], c=final_net_df['residualMag'], marker='+')\n",
    "resid_ax.set_aspect('equal')\n",
    "plt.axhline(0, color='black')\n",
    "plt.axvline(0, color='black')\n",
    "resid_cbar = plt.colorbar(resid_scatter)\n",
    "resid_fig.suptitle('Bundle Adjusted Measure Residuals')\n",
    "resid_ax.set_xlabel('Sample Residual')\n",
    "resid_ax.set_ylabel('Line Residual')\n",
    "resid_cbar.set_label('Residual Magnitude')\n",
    "plt.show()"
   ]
  },
  {
   "cell_type": "markdown",
   "metadata": {},
   "source": [
    "We can also color our points based on other properties. The following cell determines which measures belong to which mission. Then, the next cell plots the residuals again but colors them based on if they are from Galileo, Voyager1, or Voyager2."
   ]
  },
  {
   "cell_type": "code",
   "execution_count": null,
   "metadata": {
    "collapsed": true
   },
   "outputs": [],
   "source": [
    "is_galileo = final_net_df.apply(lambda row: row['serialnumber'][:7]  == 'Galileo', axis=1) # Boolean array indicating if each measure is a Galileo image\n",
    "is_voyager1 = final_net_df.apply(lambda row: row['serialnumber'][:8] == 'Voyager1', axis=1) # Boolean array indicating if each measure is a Voyager1 image\n",
    "is_voyager2 = final_net_df.apply(lambda row: row['serialnumber'][:8] == 'Voyager2', axis=1) # Boolean array indicating if each measure is a Voyager2 image"
   ]
  },
  {
   "cell_type": "code",
   "execution_count": null,
   "metadata": {
    "scrolled": false
   },
   "outputs": [],
   "source": [
    "inst_resid_fig = plt.figure(figsize=(6, 6))\n",
    "inst_resid_ax = inst_resid_fig.add_subplot(111)\n",
    "inst_resid_ax.scatter(final_net_df.loc[is_galileo]['sampleResidual'], final_net_df.loc[is_galileo]['lineResidual'], color='Red', marker='+', alpha=0.25, label='Galileo')\n",
    "inst_resid_ax.scatter(final_net_df.loc[is_voyager1]['sampleResidual'], final_net_df.loc[is_voyager1]['lineResidual'], color='Blue', marker='+', alpha=0.25, label='Voyager1')\n",
    "inst_resid_ax.scatter(final_net_df.loc[is_voyager2]['sampleResidual'], final_net_df.loc[is_voyager2]['lineResidual'], color='Green', marker='+', alpha=0.25, label='Voyager2')\n",
    "inst_resid_ax.set_aspect('equal')\n",
    "plt.axhline(0, color='black')\n",
    "plt.axvline(0, color='black')\n",
    "plt.legend()\n",
    "inst_resid_fig.suptitle('Bundle Adjusted Measure Residuals by Mission')\n",
    "inst_resid_ax.set_xlabel('Sample Residual')\n",
    "inst_resid_ax.set_ylabel('Line Residual')\n",
    "plt.show()"
   ]
  },
  {
   "cell_type": "markdown",
   "metadata": {},
   "source": [
    "### Exercise: What is the mean residual magnitude of the Galileo measures? What about for Voyager 1 and Voyager 2?\n",
    "\n",
    "tip: you can use the is_galileo, is_voyager1, and is_voyager2 arrays to index the network dataframe"
   ]
  },
  {
   "cell_type": "code",
   "execution_count": null,
   "metadata": {
    "collapsed": true
   },
   "outputs": [],
   "source": []
  },
  {
   "cell_type": "markdown",
   "metadata": {},
   "source": [
    "We can even test if the measure residuals are normally distributed"
   ]
  },
  {
   "cell_type": "code",
   "execution_count": null,
   "metadata": {},
   "outputs": [],
   "source": [
    "alpha = 1e-3 # 99.999% confidence\n",
    "_, normal_test_result = stats.normaltest(final_net_df['residualMag'])\n",
    "print(f'Chi-squared test statistic: {normal_test_result}')\n",
    "if (normal_test_result < alpha):\n",
    "    print(\"The residuals are normally distributed\")\n",
    "else:\n",
    "    print(\"The residuals may not be normally distributed\")"
   ]
  },
  {
   "cell_type": "markdown",
   "metadata": {},
   "source": [
    "## Analyzing the points\n",
    "The information for control points is duplicated for each measure they have. So, the first step in looking at control point data is to extract only the data we want from the dataframe. This will make the dataframe easier to read and it will make things run quicker."
   ]
  },
  {
   "cell_type": "code",
   "execution_count": null,
   "metadata": {
    "scrolled": true
   },
   "outputs": [],
   "source": [
    "point_columns = ['id',\n",
    "                 'pointType',\n",
    "                 'pointChoosername',\n",
    "                 'pointDatetime',\n",
    "                 'pointEditLock',\n",
    "                 'pointIgnore',\n",
    "                 'pointJigsawRejected',\n",
    "                 'aprioriSurfPointSource',\n",
    "                 'aprioriSurfPointSourceFile',\n",
    "                 'aprioriRadiusSource',\n",
    "                 'aprioriRadiusSourceFile',\n",
    "                 'latitudeConstrained',\n",
    "                 'longitudeConstrained',\n",
    "                 'radiusConstrained',\n",
    "                 'aprioriX',\n",
    "                 'aprioriY',\n",
    "                 'aprioriZ',\n",
    "                 'aprioriCovar',\n",
    "                 'adjustedX',\n",
    "                 'adjustedY',\n",
    "                 'adjustedZ',\n",
    "                 'adjustedCovar',\n",
    "                 'pointLog']\n",
    "final_points_df = final_net_df[point_columns].drop_duplicates('id')"
   ]
  },
  {
   "cell_type": "markdown",
   "metadata": {},
   "source": [
    "Next, we're going to transform the point data so that it's more useful to us. This cell will take the (X, Y, Z) adjusted ground points and convert them to (lat, lon, radius) using a library called pyproj. pyproj is a very powerful projections library and can do many cartofraphic transformations and projections.\n",
    "\n",
    "**Note: This cell will generate a warning because we are using old pyproj.Proj calls which will eventually need to change. For now we can ignore the warning.**"
   ]
  },
  {
   "cell_type": "code",
   "execution_count": null,
   "metadata": {
    "scrolled": false
   },
   "outputs": [],
   "source": [
    "# Compute the lat/lon/alt\n",
    "europa_radii = [1562600, 1560300, 1559500]\n",
    "ecef = pyproj.Proj(proj='geocent', a=europa_radii[0], b=europa_radii[1], c=europa_radii[2])\n",
    "lla = pyproj.Proj(proj='latlong', a=europa_radii[0], b=europa_radii[1], c=europa_radii[2])\n",
    "lon, lat, alt = pyproj.transform(ecef, lla, final_points_df['adjustedX'].values, final_points_df['adjustedY'].values, final_points_df['adjustedZ'].values, radians=True)\n",
    "\n",
    "# Store the data in the dataframe\n",
    "final_points_df['latitude'] = lat\n",
    "final_points_df['longitude'] = lon\n",
    "final_points_df['altitude'] = alt\n",
    "\n",
    "# We will also want the point radii\n",
    "final_points_df['radius'] = np.sqrt(final_points_df['adjustedX']**2 + final_points_df['adjustedY']**2 + final_points_df['adjustedZ']**2)"
   ]
  },
  {
   "cell_type": "markdown",
   "metadata": {},
   "source": [
    "Similar to how we computed the residual magnitude, we want to compute the average residual magnitude for each point. The following cell goes back to our original dataframe, computes the mean point by point, and then saves all of the results in our new dataframe.\n",
    "\n",
    "**Note: This cell can take a while to run because it has to re-access the dataframe for every point**"
   ]
  },
  {
   "cell_type": "code",
   "execution_count": null,
   "metadata": {},
   "outputs": [],
   "source": [
    "final_points_df[\"averageResidual\"] = 0\n",
    "for point_id, group in final_net_df.groupby('id'):\n",
    "    final_points_df.loc[final_points_df.id == point_id, \"averageResidual\"] = group['residualMag'].mean()"
   ]
  },
  {
   "cell_type": "markdown",
   "metadata": {},
   "source": [
    "### Exercise: What is the 95% percentile for the point average residuals?"
   ]
  },
  {
   "cell_type": "code",
   "execution_count": null,
   "metadata": {
    "collapsed": true
   },
   "outputs": [],
   "source": []
  },
  {
   "cell_type": "markdown",
   "metadata": {},
   "source": [
    "## Plotting the points\n",
    "Now that we have latitudes and longitudes for each point, we can generate some simple plots to look at them."
   ]
  },
  {
   "cell_type": "code",
   "execution_count": null,
   "metadata": {
    "scrolled": false
   },
   "outputs": [],
   "source": [
    "point_map = plt.figure(figsize=(10, 10))\n",
    "point_ax = point_map.add_subplot(111)\n",
    "point_ax.scatter(np.rad2deg(lon), np.rad2deg(lat), marker='+')\n",
    "point_map.suptitle('Control Points')\n",
    "point_ax.set_xlabel('Longitude')\n",
    "point_ax.set_ylabel('Latitude')\n",
    "plt.show()"
   ]
  },
  {
   "cell_type": "markdown",
   "metadata": {},
   "source": [
    "It can also be helpful to color the points based on different values. The following cell draws the same plot but colors each point based on its average residual. Because the residuals are not uniformly distributed we also apply a lograithmic scale to the colors that you can see in the colorbar."
   ]
  },
  {
   "cell_type": "code",
   "execution_count": null,
   "metadata": {
    "scrolled": false
   },
   "outputs": [],
   "source": [
    "point_resid_map = plt.figure(figsize=(10, 10))\n",
    "point_resid_ax = point_resid_map.add_subplot(111)\n",
    "point_resid_norm = matplotlib.colors.LogNorm(vmax=final_points_df[\"averageResidual\"].max())\n",
    "point_resid_scatter = point_resid_ax.scatter(np.rad2deg(lon), np.rad2deg(lat), c=final_points_df[\"averageResidual\"], alpha=0.5, norm=point_resid_norm, marker='+', cmap=plt.get_cmap('plasma'))\n",
    "point_resid_cbar = plt.colorbar(point_resid_scatter)\n",
    "point_resid_map.suptitle('Control Points')\n",
    "point_resid_ax.set_xlabel('Longitude')\n",
    "point_resid_ax.set_ylabel('Latitude')\n",
    "point_resid_cbar.set_label('Average Residual Magnitude')\n",
    "plt.show()"
   ]
  },
  {
   "cell_type": "markdown",
   "metadata": {},
   "source": [
    "## 3D Plotting\n",
    "2D plotting either requires these simple equal area projections or converting to another projection via pyproj. Instead, let's look at our data in true 3D.\n",
    "\n",
    "The following cell plots the control points in 3D and colors them based on their altitude, in meters."
   ]
  },
  {
   "cell_type": "code",
   "execution_count": null,
   "metadata": {
    "scrolled": false
   },
   "outputs": [],
   "source": [
    "fig = plt.figure(figsize=(10, 10))\n",
    "ax = fig.add_subplot(111, projection='3d')\n",
    "alt_norm = matplotlib.colors.TwoSlopeNorm(vmin=np.min(alt), vcenter=0, vmax=np.max(alt))\n",
    "p = ax.scatter(final_points_df['adjustedX'], final_points_df['adjustedY'], final_points_df['adjustedZ'], c=alt, norm=alt_norm, cmap=plt.get_cmap('Spectral'), alpha=0.1)\n",
    "alt_cbar = plt.colorbar(p)\n",
    "fig.suptitle('3D Control Points')\n",
    "alt_cbar.set_label('Altitude (m)')\n",
    "plt.show()"
   ]
  },
  {
   "cell_type": "markdown",
   "metadata": {},
   "source": [
    "## Fitting new radii\n",
    "Now that we have looked at all of the point data and it seems to be in tip-top shape, let's solve for updated radii. The scipy library has a very easy to use least squares function that we can use.\n",
    "\n",
    "Ideally we would weight all of these based on the radii sigma from our control network using the much more complex [scipy.optimize.least_squares](https://docs.scipy.org/doc/scipy/reference/generated/scipy.optimize.least_squares.html) function because it allows for output uncertainties, but that is far beyond this example."
   ]
  },
  {
   "cell_type": "code",
   "execution_count": null,
   "metadata": {},
   "outputs": [],
   "source": [
    "num_points = len(final_points_df)\n",
    "x2 = np.reshape(final_points_df['adjustedX'].values**2, (num_points, 1))\n",
    "y2 = np.reshape(final_points_df['adjustedY'].values**2, (num_points, 1))\n",
    "z2 = np.reshape(final_points_df['adjustedZ'].values**2, (num_points, 1))\n",
    "A = np.hstack([x2, y2, z2])\n",
    "b = np.ones(num_points)\n",
    "x = np.linalg.lstsq(A, b, rcond=None)[0].squeeze()\n",
    "updated_radii = np.reciprocal(np.sqrt(x))\n",
    "print(f'New Europa radii {updated_radii}')\n",
    "print(f'Difference between old and new radii {updated_radii - europa_radii}')"
   ]
  }
 ],
 "metadata": {
  "kernelspec": {
   "display_name": "autocnet local",
   "language": "python",
   "name": "autocnet_local"
  },
  "language_info": {
   "codemirror_mode": {
    "name": "ipython",
    "version": 3
   },
   "file_extension": ".py",
   "mimetype": "text/x-python",
   "name": "python",
   "nbconvert_exporter": "python",
   "pygments_lexer": "ipython3",
   "version": "3.7.8"
  }
 },
 "nbformat": 4,
 "nbformat_minor": 2
}
