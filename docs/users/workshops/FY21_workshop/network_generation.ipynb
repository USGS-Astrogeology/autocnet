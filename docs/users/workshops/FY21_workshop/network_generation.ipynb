{
 "cells": [
  {
   "cell_type": "markdown",
   "metadata": {},
   "source": [
    "# Set up"
   ]
  },
  {
   "cell_type": "code",
   "execution_count": null,
   "metadata": {
    "collapsed": true
   },
   "outputs": [],
   "source": [
    "import os\n",
    "os.environ['ISISROOT'] = '/usgs/cpkgs/anaconda3_linux/envs/isis4.2.0'\n",
    "\n",
    "import ctypes\n",
    "from ctypes.util import find_library\n",
    "ctypes.CDLL(find_library('usgscsm'))\n",
    "\n",
    "from pysis import isis\n",
    "\n",
    "from autocnet.graph.network import NetworkCandidateGraph\n",
    "from autocnet.io.db.model import Measures, Points, Images\n",
    "\n",
    "import matplotlib.pyplot as plt\n",
    "import pandas as pd"
   ]
  },
  {
   "cell_type": "code",
   "execution_count": null,
   "metadata": {
    "collapsed": true
   },
   "outputs": [],
   "source": [
    "# Morning or Evening?\n",
    "morning = 'true'\n",
    "kw_dict = {'true': 'morning',\n",
    "           'false': 'evening'}\n",
    "kw = kw_dict[morning]"
   ]
  },
  {
   "cell_type": "code",
   "execution_count": null,
   "metadata": {
    "collapsed": true
   },
   "outputs": [],
   "source": [
    "config_path = f'/home/ladoramkershner/projects/config_autocnet/phobos/phobos_workshop_network_generation.yml'"
   ]
  },
  {
   "cell_type": "code",
   "execution_count": null,
   "metadata": {},
   "outputs": [],
   "source": [
    "from autocnet.config_parser import parse_config\n",
    "config = parse_config(config_path)\n",
    "print('db name: ', config['database']['name'])\n",
    "log_dir = config['cluster']['cluster_log_dir']\n",
    "print('log dir: ', log_dir)\n",
    "print('ISISROOT: ', config['env']['ISISROOT'])\n",
    "print('conda env: ', config['env']['conda'])"
   ]
  },
  {
   "cell_type": "markdown",
   "metadata": {},
   "source": [
    "# Read in "
   ]
  },
  {
   "cell_type": "markdown",
   "metadata": {},
   "source": [
    "### First Run - File List"
   ]
  },
  {
   "cell_type": "code",
   "execution_count": null,
   "metadata": {
    "collapsed": true,
    "scrolled": true
   },
   "outputs": [],
   "source": [
    "filelist = f'/scratch/ladoramkershner/phobos.lis'\n",
    "\n",
    "ncg = NetworkCandidateGraph()\n",
    "ncg.config_from_file(config_path)\n",
    "ncg.add_from_filelist(filelist, clear_db=True)"
   ]
  },
  {
   "cell_type": "markdown",
   "metadata": {},
   "source": [
    "### All Subsequent Runs"
   ]
  },
  {
   "cell_type": "code",
   "execution_count": null,
   "metadata": {
    "scrolled": true
   },
   "outputs": [],
   "source": [
    "ncg = NetworkCandidateGraph()\n",
    "ncg.config_from_file(config_path)\n",
    "ncg.from_database()"
   ]
  },
  {
   "cell_type": "code",
   "execution_count": null,
   "metadata": {},
   "outputs": [],
   "source": [
    "print('Cluster queue length:')\n",
    "print('before -> ', ncg.queue_length)"
   ]
  },
  {
   "cell_type": "code",
   "execution_count": null,
   "metadata": {},
   "outputs": [],
   "source": [
    "print('Cleaning up cluster queue:')\n",
    "ncg.queue_flushdb()\n",
    "print('after  -> ', ncg.queue_length)"
   ]
  },
  {
   "cell_type": "markdown",
   "metadata": {},
   "source": [
    "### Visualize Graph"
   ]
  },
  {
   "cell_type": "code",
   "execution_count": null,
   "metadata": {},
   "outputs": [],
   "source": [
    "ncg.plot()"
   ]
  },
  {
   "cell_type": "markdown",
   "metadata": {},
   "source": [
    "# Place Points in Overlap"
   ]
  },
  {
   "cell_type": "code",
   "execution_count": null,
   "metadata": {},
   "outputs": [],
   "source": [
    "# Make sure the output log directory exists\n",
    "ppio_log_dir = log_dir.replace('logs', 'ppio_logs')\n",
    "print(ppio_log_dir)\n",
    "\n",
    "if not os.path.exists(ppio_log_dir):\n",
    "    os.mkdir(ppio_log_dir)\n",
    "    \n",
    "print('Exists: ', os.path.exists(ppio_log_dir))"
   ]
  },
  {
   "cell_type": "code",
   "execution_count": null,
   "metadata": {
    "scrolled": true
   },
   "outputs": [],
   "source": [
    "def ns(x):\n",
    "    from math import ceil\n",
    "    return ceil(round(x,1)*8)\n",
    "\n",
    "def ew(x):\n",
    "    from math import ceil\n",
    "    return ceil(round(x,1)*1)\n",
    "\n",
    "distribute_points_kwargs = {'nspts_func':ns, 'ewpts_func':ew, 'method':'classic'}\n",
    "\n",
    "njobs = ncg.apply('spatial.overlap.place_points_in_overlap', \n",
    "                  on='overlaps', \n",
    "                  walltime='00:20:00',\n",
    "                  cam_type='isis',\n",
    "                  distribute_points_kwargs=distribute_points_kwargs,\n",
    "                  log_dir=ppio_log_dir,\n",
    "                  arraychunk=100,\n",
    "                  chunksize=2248)\n",
    "print(njobs)\n"
   ]
  },
  {
   "cell_type": "markdown",
   "metadata": {},
   "source": [
    "### ppio: Check queue -> reapply (if needed)"
   ]
  },
  {
   "cell_type": "code",
   "execution_count": null,
   "metadata": {},
   "outputs": [],
   "source": [
    "redis_orphans = ncg.queue_length\n",
    "print(\"jobs left on the queue: \", redis_orphans)"
   ]
  },
  {
   "cell_type": "code",
   "execution_count": null,
   "metadata": {
    "collapsed": true
   },
   "outputs": [],
   "source": [
    "# job_array = ncg.apply('spatial.overlap.place_points_in_overlap', \n",
    "#                         chunksize=redis_orphans,\n",
    "#                         arraychunk=None,\n",
    "#                         walltime='00:30:00',\n",
    "#                         log_dir=ppio_log_dir,\n",
    "#                         reapply=True)\n",
    "# print(job_array)"
   ]
  },
  {
   "cell_type": "markdown",
   "metadata": {
    "collapsed": true
   },
   "source": [
    "### ppio: Write out Network"
   ]
  },
  {
   "cell_type": "code",
   "execution_count": null,
   "metadata": {
    "collapsed": true
   },
   "outputs": [],
   "source": [
    "path = '/scratch/ladoramkershner/kaguya/2021_mosaics/reiner_gamma/morning/control'\n",
    "cnet = 'reiner_gamma_morning_ns8_ew1.net'\n",
    "ncg.to_isis(os.path.join(path,cnet)) # write out"
   ]
  },
  {
   "cell_type": "markdown",
   "metadata": {
    "collapsed": true
   },
   "source": [
    "I am going to do the point registration in isis, autocnet has had work on their subpixel registration techniques and I am not sure which one to use at the moment"
   ]
  }
 ],
 "metadata": {
  "kernelspec": {
   "display_name": "autocnet_local",
   "language": "python",
   "name": "autocnet_local"
  },
  "language_info": {
   "codemirror_mode": {
    "name": "ipython",
    "version": 3
   },
   "file_extension": ".py",
   "mimetype": "text/x-python",
   "name": "python",
   "nbconvert_exporter": "python",
   "pygments_lexer": "ipython3",
   "version": "3.7.6"
  }
 },
 "nbformat": 4,
 "nbformat_minor": 2
}
