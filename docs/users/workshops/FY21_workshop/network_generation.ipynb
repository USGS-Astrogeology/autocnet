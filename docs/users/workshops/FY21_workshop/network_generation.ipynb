{
 "cells": [
  {
   "cell_type": "code",
   "execution_count": null,
   "metadata": {
    "collapsed": true
   },
   "outputs": [],
   "source": []
  },
  {
   "cell_type": "code",
   "execution_count": null,
   "metadata": {
    "collapsed": true
   },
   "outputs": [],
   "source": []
  },
  {
   "cell_type": "markdown",
   "metadata": {},
   "source": [
    "# Set up"
   ]
  },
  {
   "cell_type": "code",
   "execution_count": 1,
   "metadata": {
    "collapsed": true
   },
   "outputs": [],
   "source": [
    "import os\n",
    "os.environ['ISISROOT'] = '/usgs/cpkgs/anaconda3_linux/envs/isis3.9.0'\n",
    "from pysis import isis\n",
    "\n",
    "import ctypes\n",
    "from ctypes.util import find_library\n",
    "ctypes.CDLL(find_library('usgscsm'))\n",
    "\n",
    "\n",
    "\n",
    "\n",
    "from autocnet.io.db.model import Measures, Points, Images\n",
    "\n",
    "import matplotlib.pyplot as plt\n",
    "import pandas as pd"
   ]
  },
  {
   "cell_type": "markdown",
   "metadata": {},
   "source": [
    "### Parse the Configuration Files\n",
    "The configureation file holds information about how to set up a lot of the different services leverage in the AutoCNet code base."
   ]
  },
  {
   "cell_type": "code",
   "execution_count": 2,
   "metadata": {
    "collapsed": true
   },
   "outputs": [],
   "source": [
    "config_path = f'/home/ladoramkershner/projects/config_autocnet/moon/kaguya/workshop/kaguya_reiner_gamma_morning_workshop.yml'\n",
    "# config_path = f'/home/ladoramkershner/projects/config_autocnet/moon/kaguya/workshop/kaguya_reiner_gamma_morning_workshop_name.yml'"
   ]
  },
  {
   "cell_type": "markdown",
   "metadata": {},
   "source": [
    "It is convenient to print out some of the information within the configuration file to ensure you have loaded the correct one. Some things of note to look out for are:\n",
    "- Is the database name and log directory path the ones you expected?\n",
    "- Does the ISISROOT match to one you gave in the first cell?\n",
    "- Does the conda env match the one used in this notebook?"
   ]
  },
  {
   "cell_type": "code",
   "execution_count": 3,
   "metadata": {},
   "outputs": [
    {
     "name": "stdout",
     "output_type": "stream",
     "text": [
      "db name:  workshop_kaguya_reiner_gamma\n",
      "log dir:  /scratch/ladoramkershner/kaguya/workshop/logs\n",
      "ISISROOT:  /usgs/cpkgs/anaconda3_linux/envs/isis4.2.0\n",
      "conda env:  autocnet_local\n"
     ]
    }
   ],
   "source": [
    "from autocnet.config_parser import parse_config\n",
    "\n",
    "config = parse_config(config_path)\n",
    "print('db name: ', config['database']['name'])\n",
    "log_dir = config['cluster']['cluster_log_dir']\n",
    "print('log dir: ', log_dir)\n",
    "print('ISISROOT: ', config['env']['ISISROOT'])\n",
    "print('conda env: ', config['env']['conda'])"
   ]
  },
  {
   "cell_type": "markdown",
   "metadata": {},
   "source": [
    "# Read in "
   ]
  },
  {
   "cell_type": "markdown",
   "metadata": {},
   "source": [
    "### First Run - File List"
   ]
  },
  {
   "cell_type": "code",
   "execution_count": 5,
   "metadata": {
    "scrolled": true
   },
   "outputs": [
    {
     "name": "stderr",
     "output_type": "stream",
     "text": [
      "/work/users/ladoramkershner/projects/autocnet/autocnet/graph/network.py:2118: UserWarning: Failed to reset primary id sequence for table costs\n",
      "  warnings.warn(f'Failed to reset primary id sequence for table {t}')\n"
     ]
    },
    {
     "name": "stdout",
     "output_type": "stream",
     "text": [
      "loading 1 of 69\n"
     ]
    },
    {
     "name": "stderr",
     "output_type": "stream",
     "text": [
      "/home/ladoramkershner/miniconda3/envs/autocnet_local/lib/python3.7/site-packages/sqlalchemy/orm/relationships.py:1917: SAWarning: Setting backref / back_populates on relationship Points.overlay to refer to viewonly relationship Overlay.points will be deprecated in SQLAlchemy 1.4, and will be disallowed in a future release.  viewonly relationships should not be mutated (this warning may be suppressed after 10 occurrences)\n",
      "  (self, other),\n",
      "/home/ladoramkershner/miniconda3/envs/autocnet_local/lib/python3.7/site-packages/sqlalchemy/orm/relationships.py:1917: SAWarning: Setting backref / back_populates on relationship Overlay.points to refer to viewonly relationship Points.overlay will be deprecated in SQLAlchemy 1.4, and will be disallowed in a future release.  viewonly relationships should not be mutated (this warning may be suppressed after 10 occurrences)\n",
      "  (self, other),\n"
     ]
    },
    {
     "name": "stdout",
     "output_type": "stream",
     "text": [
      "loading 2 of 69\n",
      "loading 3 of 69\n",
      "loading 4 of 69\n",
      "loading 5 of 69\n",
      "loading 6 of 69\n",
      "loading 7 of 69\n",
      "loading 8 of 69\n",
      "loading 9 of 69\n",
      "loading 10 of 69\n",
      "loading 11 of 69\n",
      "loading 12 of 69\n",
      "loading 13 of 69\n",
      "loading 14 of 69\n",
      "loading 15 of 69\n",
      "loading 16 of 69\n",
      "loading 17 of 69\n",
      "loading 18 of 69\n",
      "loading 19 of 69\n",
      "loading 20 of 69\n",
      "loading 21 of 69\n",
      "loading 22 of 69\n",
      "loading 23 of 69\n",
      "loading 24 of 69\n",
      "loading 25 of 69\n",
      "loading 26 of 69\n",
      "loading 27 of 69\n",
      "loading 28 of 69\n",
      "loading 29 of 69\n",
      "loading 30 of 69\n",
      "loading 31 of 69\n",
      "loading 32 of 69\n",
      "loading 33 of 69\n",
      "loading 34 of 69\n",
      "loading 35 of 69\n",
      "loading 36 of 69\n",
      "loading 37 of 69\n",
      "loading 38 of 69\n",
      "loading 39 of 69\n",
      "loading 40 of 69\n",
      "loading 41 of 69\n",
      "loading 42 of 69\n",
      "loading 43 of 69\n",
      "loading 44 of 69\n",
      "loading 45 of 69\n",
      "loading 46 of 69\n",
      "loading 47 of 69\n",
      "loading 48 of 69\n",
      "loading 49 of 69\n",
      "loading 50 of 69\n",
      "loading 51 of 69\n",
      "loading 52 of 69\n",
      "loading 53 of 69\n",
      "loading 54 of 69\n",
      "loading 55 of 69\n",
      "loading 56 of 69\n",
      "loading 57 of 69\n",
      "loading 58 of 69\n",
      "loading 59 of 69\n",
      "loading 60 of 69\n",
      "loading 61 of 69\n",
      "loading 62 of 69\n",
      "loading 63 of 69\n",
      "loading 64 of 69\n",
      "loading 65 of 69\n",
      "loading 66 of 69\n",
      "loading 67 of 69\n",
      "loading 68 of 69\n",
      "loading 69 of 69\n"
     ]
    }
   ],
   "source": [
    "# Center of Reinner Gamma (7.40, -58.80)\n",
    "# Extents of the cubes \n",
    "# Latitude: (4.9, 9.9)\n",
    "# Longitude: (-61.3, -56.3) -> (298.7, 303.7)\n",
    "\n",
    "from autocnet.graph.network import NetworkCandidateGraph\n",
    "\n",
    "filelist = f'/scratch/ladoramkershner/kaguya/workshop/cubes_updated.lis' # this should contain absolute paths\n",
    "\n",
    "ncg = NetworkCandidateGraph()\n",
    "ncg.config_from_file(config_path)\n",
    "ncg.add_from_filelist(filelist, clear_db=True)"
   ]
  },
  {
   "cell_type": "markdown",
   "metadata": {},
   "source": [
    "### All Subsequent Runs"
   ]
  },
  {
   "cell_type": "code",
   "execution_count": 4,
   "metadata": {
    "scrolled": true
   },
   "outputs": [
    {
     "name": "stderr",
     "output_type": "stream",
     "text": [
      "/home/ladoramkershner/miniconda3/envs/autocnet_local/lib/python3.7/site-packages/sqlalchemy/orm/relationships.py:1917: SAWarning: Setting backref / back_populates on relationship Points.overlay to refer to viewonly relationship Overlay.points will be deprecated in SQLAlchemy 1.4, and will be disallowed in a future release.  viewonly relationships should not be mutated (this warning may be suppressed after 10 occurrences)\n",
      "  (self, other),\n",
      "/home/ladoramkershner/miniconda3/envs/autocnet_local/lib/python3.7/site-packages/sqlalchemy/orm/relationships.py:1917: SAWarning: Setting backref / back_populates on relationship Overlay.points to refer to viewonly relationship Points.overlay will be deprecated in SQLAlchemy 1.4, and will be disallowed in a future release.  viewonly relationships should not be mutated (this warning may be suppressed after 10 occurrences)\n",
      "  (self, other),\n"
     ]
    }
   ],
   "source": [
    "ncg = NetworkCandidateGraph()\n",
    "ncg.config_from_file(config_path)\n",
    "ncg.from_database()"
   ]
  },
  {
   "cell_type": "code",
   "execution_count": 5,
   "metadata": {},
   "outputs": [
    {
     "name": "stdout",
     "output_type": "stream",
     "text": [
      "Cluster queue length:\n",
      "before ->  0\n"
     ]
    }
   ],
   "source": [
    "print('Cluster queue length:')\n",
    "print('before -> ', ncg.queue_length)"
   ]
  },
  {
   "cell_type": "code",
   "execution_count": null,
   "metadata": {
    "collapsed": true
   },
   "outputs": [],
   "source": [
    "print('Cleaning up cluster queue:')\n",
    "ncg.queue_flushdb()\n",
    "print('after  -> ', ncg.queue_length)"
   ]
  },
  {
   "cell_type": "markdown",
   "metadata": {},
   "source": [
    "### Visualize Graph"
   ]
  },
  {
   "cell_type": "code",
   "execution_count": 6,
   "metadata": {},
   "outputs": [
    {
     "data": {
      "text/plain": [
       "<AxesSubplot:>"
      ]
     },
     "execution_count": 6,
     "metadata": {},
     "output_type": "execute_result"
    },
    {
     "data": {
      "image/png": "[encoded data removed]",
      "text/plain": [
       "<Figure size 432x288 with 1 Axes>"
      ]
     },
     "metadata": {},
     "output_type": "display_data"
    }
   ],
   "source": [
    "ncg.plot()"
   ]
  },
  {
   "cell_type": "markdown",
   "metadata": {},
   "source": [
    "# Place Points in Overlap"
   ]
  },
  {
   "cell_type": "markdown",
   "metadata": {},
   "source": [
    "### ppio: Create the Log Directory"
   ]
  },
  {
   "cell_type": "code",
   "execution_count": 7,
   "metadata": {},
   "outputs": [
    {
     "name": "stdout",
     "output_type": "stream",
     "text": [
      "/scratch/ladoramkershner/kaguya/workshop/ppio_logs\n",
      "Exists:  True\n"
     ]
    }
   ],
   "source": [
    "# Make sure the output log directory exists\n",
    "ppio_log_dir = log_dir.replace('logs', 'ppio_logs')\n",
    "print(ppio_log_dir)\n",
    "\n",
    "if not os.path.exists(ppio_log_dir):\n",
    "    os.mkdir(ppio_log_dir)\n",
    "    \n",
    "print('Exists: ', os.path.exists(ppio_log_dir))"
   ]
  },
  {
   "cell_type": "markdown",
   "metadata": {},
   "source": [
    "### ppio: Call Function"
   ]
  },
  {
   "cell_type": "code",
   "execution_count": 10,
   "metadata": {
    "scrolled": true
   },
   "outputs": [
    {
     "name": "stdout",
     "output_type": "stream",
     "text": [
      "714\n"
     ]
    }
   ],
   "source": [
    "def ns(x):\n",
    "    from math import ceil\n",
    "    return ceil(round(x,1)*8)\n",
    "\n",
    "def ew(x):\n",
    "    from math import ceil\n",
    "    return ceil(round(x,1)*1)\n",
    "\n",
    "distribute_points_kwargs = {'nspts_func':ns, 'ewpts_func':ew, 'method':'classic'}\n",
    "\n",
    "njobs = ncg.apply('spatial.overlap.place_points_in_overlap', \n",
    "                  on='overlaps', \n",
    "                  walltime='00:20:00',\n",
    "                  cam_type='isis',\n",
    "                  distribute_points_kwargs=distribute_points_kwargs,\n",
    "                  log_dir=ppio_log_dir,\n",
    "                  arraychunk=100,\n",
    "                  chunksize=714) # maximum chunksize = 20,000\n",
    "print(njobs)\n"
   ]
  },
  {
   "cell_type": "markdown",
   "metadata": {},
   "source": [
    "### ppio: Check queue -> reapply if needed\n",
    "Sometimes jobs fail to submit to the cluster"
   ]
  },
  {
   "cell_type": "code",
   "execution_count": 12,
   "metadata": {},
   "outputs": [
    {
     "name": "stdout",
     "output_type": "stream",
     "text": [
      "jobs left on the queue:  0\n"
     ]
    }
   ],
   "source": [
    "redis_orphans = ncg.queue_length\n",
    "print(\"jobs left on the queue: \", redis_orphans)"
   ]
  },
  {
   "cell_type": "code",
   "execution_count": null,
   "metadata": {
    "collapsed": true
   },
   "outputs": [],
   "source": [
    "# job_array = ncg.apply('spatial.overlap.place_points_in_overlap', \n",
    "#                         chunksize=redis_orphans,\n",
    "#                         arraychunk=None,\n",
    "#                         walltime='00:30:00',\n",
    "#                         log_dir=ppio_log_dir,\n",
    "#                         reapply=True)\n",
    "# print(job_array)"
   ]
  },
  {
   "cell_type": "markdown",
   "metadata": {},
   "source": [
    "**plot overlaps and point distribution**"
   ]
  },
  {
   "cell_type": "markdown",
   "metadata": {
    "collapsed": true
   },
   "source": [
    "### ppio: Write out Network"
   ]
  },
  {
   "cell_type": "code",
   "execution_count": 13,
   "metadata": {
    "collapsed": true
   },
   "outputs": [],
   "source": [
    "path = '/scratch/ladoramkershner/kaguya/workshop/'\n",
    "cnet = 'reiner_gamma_morning_ns8_ew1.net'\n",
    "ncg.to_isis(os.path.join(path,cnet))"
   ]
  },
  {
   "cell_type": "markdown",
   "metadata": {},
   "source": [
    "# Subpixel Registration\n"
   ]
  },
  {
   "cell_type": "code",
   "execution_count": 20,
   "metadata": {
    "collapsed": true
   },
   "outputs": [],
   "source": [
    "from autocnet.matcher.subpixel import subpixel_register_point\n",
    "subpixel_register_point?"
   ]
  },
  {
   "cell_type": "markdown",
   "metadata": {},
   "source": [
    "There are a few subpixel registration functions in the AutoCNet code base, most of which are contained within the autocnet.matcher.subpixel module. A lot of these functions have a similar structure; you give a singular point id, it grabs the necessary information from the database \n",
    "\n",
    "Kwargs definitions:\n",
    "pointid\n",
    "subpixel_template_kwargs\n",
    "cost_func \n",
    "threshold\n"
   ]
  },
  {
   "cell_type": "markdown",
   "metadata": {},
   "source": [
    "## First Run\n",
    "Tighter constraints so points do not needlessly jump"
   ]
  },
  {
   "cell_type": "markdown",
   "metadata": {},
   "source": [
    "### subpix1: Create the Log Directory"
   ]
  },
  {
   "cell_type": "code",
   "execution_count": 7,
   "metadata": {},
   "outputs": [
    {
     "name": "stdout",
     "output_type": "stream",
     "text": [
      "/scratch/ladoramkershner/kaguya/workshop/subpix1_logs\n",
      "Exists:  True\n"
     ]
    }
   ],
   "source": [
    "# Make sure the output log directory exists\n",
    "subpix1_log_dir = log_dir.replace('logs', 'subpix1_logs')\n",
    "print(subpix1_log_dir)\n",
    "\n",
    "if not os.path.exists(subpix1_log_dir):\n",
    "    os.mkdir(subpix1_log_dir)\n",
    "    \n",
    "print('Exists: ', os.path.exists(subpix1_log_dir))"
   ]
  },
  {
   "cell_type": "markdown",
   "metadata": {},
   "source": [
    "### subpix1: Call Function"
   ]
  },
  {
   "cell_type": "code",
   "execution_count": 8,
   "metadata": {},
   "outputs": [
    {
     "name": "stdout",
     "output_type": "stream",
     "text": [
      "1571\n"
     ]
    }
   ],
   "source": [
    "subpixel_template_kwargs = {'image_size':(121,121), 'template_size':(61,61)} \n",
    "filters = {}\n",
    "\n",
    "njobs = ncg.apply('matcher.subpixel.subpixel_register_point', \n",
    "                  on='points',\n",
    "                  subpixel_template_kwargs=subpixel_template_kwargs,\n",
    "                  filters=filters,\n",
    "                  walltime=\"00:30:00\",\n",
    "                  log_dir=subpix1_log_dir,\n",
    "                  version='simple',\n",
    "                  size_x=61, size_y=61,\n",
    "                  cost_func=lambda x,y:x*0+y,\n",
    "                  threshold=0.6, \n",
    "                  arraychunk=100,\n",
    "                  chunksize=1571) # maximum chunksize = 20,000\n",
    "\n",
    "\n",
    "print(njobs)"
   ]
  },
  {
   "cell_type": "markdown",
   "metadata": {},
   "source": [
    "### subpix1: Check queue -> reapply if needed"
   ]
  },
  {
   "cell_type": "code",
   "execution_count": 9,
   "metadata": {},
   "outputs": [
    {
     "name": "stdout",
     "output_type": "stream",
     "text": [
      "jobs left on the queue:  0\n"
     ]
    }
   ],
   "source": [
    "redis_orphans = ncg.queue_length\n",
    "print(\"jobs left on the queue: \", redis_orphans)"
   ]
  },
  {
   "cell_type": "code",
   "execution_count": 10,
   "metadata": {
    "collapsed": true
   },
   "outputs": [],
   "source": [
    "# job_array = ncg.apply('matcher.subpixel.subpixel_register_point', \n",
    "#                       reapply=True,\n",
    "#                       chunksize=redis_orphans, \n",
    "#                       arraychunk=None,\n",
    "#                       walltime=\"00:30:00\",\n",
    "#                       log_dir=subpix1_log_dir)\n",
    "# print(job_array)"
   ]
  },
  {
   "cell_type": "code",
   "execution_count": 11,
   "metadata": {
    "collapsed": true
   },
   "outputs": [],
   "source": [
    "# redis_orphans = ncg.queue_length\n",
    "# print(\"jobs left on the queue: \", redis_orphans)"
   ]
  },
  {
   "cell_type": "markdown",
   "metadata": {},
   "source": [
    "### subpix1: Write out Network"
   ]
  },
  {
   "cell_type": "code",
   "execution_count": 12,
   "metadata": {
    "collapsed": true
   },
   "outputs": [],
   "source": [
    "path = '/scratch/ladoramkershner/kaguya/workshop/'\n",
    "cnet = 'reiner_gamma_morning_ns8_ew1_t121x61.net'\n",
    "ncg.to_isis(os.path.join(path,cnet))"
   ]
  },
  {
   "cell_type": "code",
   "execution_count": null,
   "metadata": {
    "collapsed": true
   },
   "outputs": [],
   "source": []
  },
  {
   "cell_type": "code",
   "execution_count": 13,
   "metadata": {
    "collapsed": true
   },
   "outputs": [],
   "source": [
    "name = \"workshop_kaguya_reiner_gamma_subpix1\"\n",
    "detach_query = f\"\"\"\n",
    "SELECT pg_terminate_backend(pg_stat_activity.pid) \n",
    "FROM pg_stat_activity\n",
    "WHERE \n",
    "    pg_stat_activity.datname = 'workshop_kaguya_reiner_gamma' AND \n",
    "    pid <> pg_backend_pid()\n",
    "\"\"\"\n",
    "snapshot_query = f\"\"\"\n",
    "CREATE DATABASE {name}\n",
    "WITH TEMPLATE workshop_kaguya_reiner_gamma\n",
    "\"\"\"\n",
    "\n",
    "with ncg.session_scope() as session:\n",
    "    session.execute(detach_query)\n",
    "    session.execute(snapshot_query)"
   ]
  },
  {
   "cell_type": "markdown",
   "metadata": {},
   "source": [
    "## Second run\n",
    "Open up constraints for points that failed first run"
   ]
  },
  {
   "cell_type": "markdown",
   "metadata": {},
   "source": [
    "### subpix2: Create the Log Directory"
   ]
  },
  {
   "cell_type": "code",
   "execution_count": 14,
   "metadata": {},
   "outputs": [
    {
     "name": "stdout",
     "output_type": "stream",
     "text": [
      "/scratch/ladoramkershner/kaguya/workshop/subpix2_logs\n",
      "Exists:  True\n"
     ]
    }
   ],
   "source": [
    "# Make sure the output log directory exists\n",
    "subpix2_log_dir = log_dir.replace('logs', 'subpix2_logs')\n",
    "print(subpix2_log_dir)\n",
    "\n",
    "if not os.path.exists(subpix2_log_dir):\n",
    "    os.mkdir(subpix2_log_dir)\n",
    "    \n",
    "print('Exists: ', os.path.exists(subpix2_log_dir))"
   ]
  },
  {
   "cell_type": "markdown",
   "metadata": {},
   "source": [
    "### subpix2: Call Function"
   ]
  },
  {
   "cell_type": "code",
   "execution_count": 15,
   "metadata": {},
   "outputs": [
    {
     "name": "stdout",
     "output_type": "stream",
     "text": [
      "1571\n"
     ]
    }
   ],
   "source": [
    "subpixel_template_kwargs = {'image_size':(221,221), 'template_size':(81,81)} \n",
    "# filters = {'ignore': 'true'}\n",
    "\n",
    "njobs = ncg.apply('matcher.subpixel.subpixel_register_point', \n",
    "                  on='points',\n",
    "#                   filters=filters,\n",
    "                  subpixel_template_kwargs=subpixel_template_kwargs,\n",
    "                  cost_func=lambda x,y:x*0+y,\n",
    "                  size_x=111, size_y=111,\n",
    "                  threshold=0.6,\n",
    "                  walltime=\"00:30:00\",\n",
    "                  log_dir=subpix2_log_dir,\n",
    "                  version='simple',\n",
    "                  arraychunk=100,\n",
    "                  chunksize=1571) # maximum chunksize = 20,000\n",
    "\n",
    "\n",
    "print(njobs)"
   ]
  },
  {
   "cell_type": "markdown",
   "metadata": {},
   "source": [
    "### subpix2: Check queue -> reapply"
   ]
  },
  {
   "cell_type": "code",
   "execution_count": 17,
   "metadata": {},
   "outputs": [
    {
     "name": "stdout",
     "output_type": "stream",
     "text": [
      "jobs left on the queue:  19\n"
     ]
    }
   ],
   "source": [
    "redis_orphans = ncg.queue_length\n",
    "print(\"jobs left on the queue: \", redis_orphans)"
   ]
  },
  {
   "cell_type": "code",
   "execution_count": 18,
   "metadata": {},
   "outputs": [
    {
     "name": "stdout",
     "output_type": "stream",
     "text": [
      "19\n"
     ]
    }
   ],
   "source": [
    "# njobs = ncg.apply('matcher.subpixel.subpixel_register_point', \n",
    "#                   reapply = True,\n",
    "#                   walltime=\"00:30:00\",\n",
    "#                   log_dir='/scratch/ladoramkershner/mars_quads/oxia_palus/subpix2_logs/',\n",
    "#                   arraychunk=50,\n",
    "#                   chunksize=20000) # maximum chunksize = 20,000\n",
    "\n",
    "# print(njobs)"
   ]
  },
  {
   "cell_type": "code",
   "execution_count": 19,
   "metadata": {},
   "outputs": [
    {
     "name": "stdout",
     "output_type": "stream",
     "text": [
      "jobs left on the queue:  0\n"
     ]
    }
   ],
   "source": [
    "redis_orphans = ncg.queue_length\n",
    "print(\"jobs left on the queue: \", redis_orphans)"
   ]
  },
  {
   "cell_type": "markdown",
   "metadata": {},
   "source": [
    "### subpix2: Write out Network"
   ]
  },
  {
   "cell_type": "code",
   "execution_count": 16,
   "metadata": {
    "collapsed": true
   },
   "outputs": [],
   "source": [
    "path = '/scratch/ladoramkershner/kaguya/workshop/'\n",
    "cnet = 'reiner_gamma_morning_ns8_ew1_t121x61_t221x81.net'\n",
    "ncg.to_isis(os.path.join(path,cnet))"
   ]
  },
  {
   "cell_type": "markdown",
   "metadata": {},
   "source": [
    "# Ground"
   ]
  },
  {
   "cell_type": "markdown",
   "metadata": {},
   "source": [
    "### ground: Lay Down Points"
   ]
  },
  {
   "cell_type": "code",
   "execution_count": 18,
   "metadata": {
    "collapsed": true
   },
   "outputs": [],
   "source": [
    "Session = \n",
    "ground_mosaic = '/scratch/ladoramkershner/kaguya/workshop/ground/Lunar_LRO_LOLAKaguya_Shade_ReinerGamma_512ppd.cub' # what are we using for moon ground? How do I cut out a little piece?\n",
    "# ground_cnet, fp_poly, coord_list = generate_ground_points(Session, \n",
    "#                                                           ground_mosaic, \n",
    "#                                                           nspts_func=lambda x: int(round(x,1)*1), \n",
    "#                                                           ewpts_func=lambda x: int(round(x,1)*4), \n",
    "#                                                           size=(100,100))"
   ]
  },
  {
   "cell_type": "markdown",
   "metadata": {},
   "source": [
    "### ground: Propegate Points"
   ]
  },
  {
   "cell_type": "code",
   "execution_count": null,
   "metadata": {
    "collapsed": true
   },
   "outputs": [],
   "source": []
  },
  {
   "cell_type": "markdown",
   "metadata": {},
   "source": [
    "### ground: Subpixel Register?"
   ]
  },
  {
   "cell_type": "code",
   "execution_count": null,
   "metadata": {
    "collapsed": true
   },
   "outputs": [],
   "source": []
  }
 ],
 "metadata": {
  "kernelspec": {
   "display_name": "autocnet_local",
   "language": "python",
   "name": "autocnet_local"
  },
  "language_info": {
   "codemirror_mode": {
    "name": "ipython",
    "version": 3
   },
   "file_extension": ".py",
   "mimetype": "text/x-python",
   "name": "python",
   "nbconvert_exporter": "python",
   "pygments_lexer": "ipython3",
   "version": "3.7.6"
  }
 },
 "nbformat": 4,
 "nbformat_minor": 2
}
