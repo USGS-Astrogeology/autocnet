{
 "cells": [
  {
   "cell_type": "markdown",
   "metadata": {
    "collapsed": true
   },
   "source": [
    "## Tuesday (01/19) Meeting\n",
    "#### These are covered in the network_generation notebook, intro here?:\n",
    "- How to generate a control network purely in autocnet \n",
    "    - Sub-pixel registration \n",
    "        - Custom cost functions\n",
    "    - Cross-instrument matching   \n",
    "        - Custom cost functions\n",
    "\n",
    "I would like to have a database that we can look at apriori and adjusted ROIs (before and after subpixel registration). Should we have another demo database, totally static, or just have them edit the database name they use when generating their networks (workshop_kaguya_reiner_gamma_NAME) so we can use the one I am generating as a part of the network_generation notebook?\n",
    "\n",
    "    \n",
    "#### Covered in notebooks from last sprint:\n",
    "- How to ingest an ISIS control network \n",
    "- Overlap analysis\n",
    "- Outlier detection "
   ]
  },
  {
   "cell_type": "code",
   "execution_count": null,
   "metadata": {
    "collapsed": true
   },
   "outputs": [],
   "source": []
  },
  {
   "cell_type": "code",
   "execution_count": null,
   "metadata": {
    "collapsed": true
   },
   "outputs": [],
   "source": []
  },
  {
   "cell_type": "markdown",
   "metadata": {},
   "source": [
    "# AutoCNet Intro\n",
    "AutoCNet is a suite of functions that parallelize network generation and analyze the health of networks. Networks within AutoCNet are represented with an [undirected graph](https://en.wikipedia.org/wiki/Graph_(discrete_mathematics)), called a NetworkCandidateGraph. AutoCNet leverages a database for presistent storage of the images, points, and measures of a network. The use of this database allows for quick access of each elements geometries and how those geometries relate with one another. "
   ]
  },
  {
   "cell_type": "markdown",
   "metadata": {
    "collapsed": true
   },
   "source": [
    "**[insert flow chart of AutoCNet? Making sure to highlight the placement of the services that require config variables]**"
   ]
  },
  {
   "cell_type": "markdown",
   "metadata": {},
   "source": [
    "# AutoCNet Configuration\n",
    "AutoCnet leverages numerous services for the cluster processing and the data presistance. This services require configuration parameters at the creation of the NetworkCandidateGraph. These parameters are typically held in a configuration yaml file. \n",
    "\n",
    "The services leverage in a network are:\n",
    "- cluster of choice (ASC internal Nebula)\n",
    "\n",
    "There corresponding necessary configuration values are:\n",
    "- cluster: meta configurations for the cluster\n",
    "    - maxfailures [int]: the number of times to retry a failing cluster job (default)\n",
    "    - queue [str]: name of the processing queue to be used for cluster jobs\n",
    "    - cluster_log_dir [str]: path location to put log files of the cluster jobs\n",
    "    - cluster_submission [str]: The name of the job scheduler used on the cluster (e.g.: 'slurm' or 'pbs')\n",
    "    - extractor_memory [int]: The amount of RAM to request for jobs (in MB)\n",
    "    - processing_memory [int]: The amount of RAM to request for jobs (in MB)\n",
    "- env: the conda and ISIS environment configuration to be used on the cluster jobs\n",
    "    - conda [str]: name of the conda environment to activate before cluster jobs execution\n",
    "    - ISISROOT [str]: path to the ISISROOT directory\n",
    "    - ISISDATA [str]: path to the ISISDATA directory\n",
    "- database: meta configuration for the database\n",
    "    - type [str]: name of the database management system (e.g.: 'postgresql' or 'sqlite')\n",
    "    - username [str]: username used to login to the database\n",
    "    - password [str]: password used to login to the database\n",
    "    - host [int]: name of the host (or local) machine running the database\n",
    "    - port [int]: port that the database is exposed on\n",
    "    - pgbouncer_port [int]: port that is running the proxy that manages database connections\n",
    "    - name [str]: name of database where tables will be created. PostGreSQL requires all lowercase database names.\n",
    "    - timeout [int]: number of seconds to wait while attempting to connect to database\n",
    "\n",
    "- redis\n",
    "- spatial\n",
    "- directories\n",
    "\n",
    "Do not require change\n",
    "- pfeffernuss\n",
    "\n"
   ]
  },
  {
   "cell_type": "markdown",
   "metadata": {},
   "source": [
    "redis:\n",
    "  51     # Name of the redis queue. Ensure it is unique to avoid multiple uses\n",
    "  52     # of the same redis queue.\n",
    "  53     basename: 'kag_rg'\n",
    "  54     # Hostname (or localhost) where the redis server is running\n",
    "  55     host: 'autocnet.wr.usgs.gov'\n",
    "  56     # Port that redis is accepting connections on\n",
    "  57     port: '30009'\n",
    "  58     # The name of the queue that successful job messages are pushed. This\n",
    "  59     # name should be unique to avoid collision with other users.\n",
    "  60     completed_queue: 'kag_rg:done'\n",
    "  61     # The name of the queue used for jobs that need to be started. This\n",
    "  62     # name should be unique to avoid collision with other users.\n",
    "  63     processing_queue: 'kag_rg:proc'\n",
    "  64     # The name of the queue that currently processing jobs are pushed to. This\n",
    "  65     # name should be unique to avoid collision with other users.\n",
    "  66     working_queue: 'lak_kag_rg:working'\n"
   ]
  },
  {
   "cell_type": "markdown",
   "metadata": {},
   "source": [
    "spatial:\n",
    "    \n",
    "    target: 'MOON' # The name of the target body that will be output in ISIS control networks.\n",
    "    # The following two values need to be added to the database that is storing\n",
    "    # the spatial information.\n",
    "    #\n",
    "    # The spatial reference identifier for latitudinal geometries in the database.\n",
    "    latitudinal_srid: 930100\n",
    "    # The spatial reference identifier for rectangular geometries in the database.\n",
    "    rectangular_srid: 930180\n",
    "    # The radii of the body. If the body is a sphere, these values should match.\n",
    "    # Units are in meters\n",
    "    semimajor_rad: 1737400\n",
    "    semiminor_rad: 1737400\n",
    "    # A compliant proj4 string. Checkout http://spatialreference.org for examples\n",
    "    # for planetary bodies.\n",
    "    proj4_str: '+proj=longlat +a=1737400 +b=1737400 +no_defs'\n",
    "    # DEM used to generate height values for projection\n",
    "    dem: '/usgs/cpkgs/isis3/isis_data/base/dems/ldem_128ppd_Mar2011_clon180_radius_pad.cub"
   ]
  },
  {
   "cell_type": "code",
   "execution_count": null,
   "metadata": {
    "collapsed": true
   },
   "outputs": [],
   "source": [
    "config_path = f'/home/ladoramkershner/projects/config_autocnet/moon/kaguya/workshop/kaguya_reiner_gamma_morning_workshop.yml'"
   ]
  },
  {
   "cell_type": "code",
   "execution_count": null,
   "metadata": {
    "collapsed": true
   },
   "outputs": [],
   "source": [
    "from autocnet.config_parser import parse_config\n",
    "\n",
    "config = parse_config(config_path)"
   ]
  },
  {
   "cell_type": "markdown",
   "metadata": {},
   "source": [
    "Check out different configuration variables"
   ]
  },
  {
   "cell_type": "code",
   "execution_count": null,
   "metadata": {},
   "outputs": [],
   "source": [
    "print(config['spatial'])"
   ]
  },
  {
   "cell_type": "markdown",
   "metadata": {},
   "source": [
    "# Components of The NetworkCandidateGraph\n",
    "The network candidate graph is an implimentation of an undirected graph, which contains nodes and edges. A node in a graph is synonymous with an image. The node (image) stores PATH information, an accessor to the on-disk data set, and correspondences information that references the image. An edge in a graph represent the relationships between the nodes (images); it contains information such as the source and destination image ids (and associated node ids), the overlap dimensions, and points/measures shared between the two nodes (images).\n",
    "\n"
   ]
  },
  {
   "cell_type": "markdown",
   "metadata": {},
   "source": [
    "The 'Network' in NetworkCandidateGraph references a database component which contains the presisted information of an AutoCNet network."
   ]
  },
  {
   "cell_type": "markdown",
   "metadata": {},
   "source": [
    "# Database Table Structures\n",
    "The database and the AutoCNet network information that is presisted are organized into the following tables:\n",
    "- cameras\n",
    "- costs\n",
    "- edges\n",
    "- images\n",
    "- keypoints\n",
    "- matches\n",
    "- measures\n",
    "- overlay \n",
    "- points"
   ]
  },
  {
   "cell_type": "markdown",
   "metadata": {},
   "source": [
    "### Cameras\n",
    "The camera tables holds the informatiuon relevant to the amera models used in a control network.\n",
    "- id: primary key index for the cameras table \n",
    "- image_id: foreign key pointing to the primary key index of the 'images' table\n",
    "- camera: ?????????\n",
    "- cam_type: type of camera model used; current options include ['csm', 'isis']\n",
    "\n",
    "**Are these kinds of database table descriptions helpful?**"
   ]
  },
  {
   "cell_type": "markdown",
   "metadata": {},
   "source": [
    "# Network Generation Intro\n",
    "\n",
    "What is the process?\n",
    "- Set up configuration so you have access to all components of cluster enable AutoCNet\n",
    "- Lay down points\n",
    "- Subpixel register relatively\n",
    "    - Put a visualization of the ROIs before and after subpixel registration\n",
    "- Iterate to a good network\n",
    "    - Jigsaw still done in ISIS (CSM bundle under construction)\n",
    "- Groujnd strong relative network using cross-instrument matcher"
   ]
  },
  {
   "cell_type": "code",
   "execution_count": null,
   "metadata": {
    "collapsed": true
   },
   "outputs": [],
   "source": []
  },
  {
   "cell_type": "code",
   "execution_count": null,
   "metadata": {
    "collapsed": true
   },
   "outputs": [],
   "source": []
  },
  {
   "cell_type": "markdown",
   "metadata": {},
   "source": [
    "# Cluster Processing \n",
    " Cluster pricessing in AutoCNet is called using NetworkCandidateGraph.apply() function \n",
    " \n",
    " (function,\n",
    "                            on='edges',\n",
    "                            filters,\n",
    "                            query_string,\n",
    "                            args,\n",
    "                            walltime,\n",
    "                            chunksize,\n",
    "                            arraychunk,\n",
    "                            reapply,\n",
    "                            log_dir)"
   ]
  },
  {
   "cell_type": "code",
   "execution_count": null,
   "metadata": {},
   "outputs": [],
   "source": [
    "from autocnet.graph.network import NetworkCandidateGraph\n",
    "ncg = NetworkCandidateGraph()\n",
    "ncg.apply?"
   ]
  },
  {
   "cell_type": "code",
   "execution_count": null,
   "metadata": {
    "collapsed": true
   },
   "outputs": [],
   "source": []
  },
  {
   "cell_type": "code",
   "execution_count": null,
   "metadata": {
    "collapsed": true
   },
   "outputs": [],
   "source": []
  },
  {
   "cell_type": "code",
   "execution_count": null,
   "metadata": {
    "collapsed": true
   },
   "outputs": [],
   "source": []
  }
 ],
 "metadata": {
  "kernelspec": {
   "display_name": "autocnet_local",
   "language": "python",
   "name": "autocnet_local"
  },
  "language_info": {
   "codemirror_mode": {
    "name": "ipython",
    "version": 3
   },
   "file_extension": ".py",
   "mimetype": "text/x-python",
   "name": "python",
   "nbconvert_exporter": "python",
   "pygments_lexer": "ipython3",
   "version": "3.7.6"
  }
 },
 "nbformat": 4,
 "nbformat_minor": 2
}
