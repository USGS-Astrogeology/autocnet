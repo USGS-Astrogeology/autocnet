{
 "cells": [
  {
   "cell_type": "code",
   "execution_count": null,
   "metadata": {
    "collapsed": true
   },
   "outputs": [],
   "source": [
    "    The components of the NetworkCandidateGraph \n",
    "\n",
    "    The database structures \n",
    "\n",
    "    Apply & cluster processing \n",
    "\n",
    "    How to generate a control network purely in autocnet (Use the Phobos)\n",
    "\n",
    "    Sub-pixel registration \n",
    "\n",
    "    Cross-instrument matching \n",
    "\n",
    "    How to ingest an ISIS control network \n",
    "\n",
    "    Overlap analysis \n",
    "\n",
    "    Outlier detection \n",
    "\n",
    "    Custom cost functions "
   ]
  },
  {
   "cell_type": "markdown",
   "metadata": {},
   "source": [
    "# AutoCNet Intro\n",
    "AutoCNet is a suite of functions that parallelize network generation and analyze the health of networks. Networks within AutoCNet are represented with an [undirected graph](https://en.wikipedia.org/wiki/Graph_(discrete_mathematics)), called a NetworkCandidateGraph.\n",
    "\n",
    "It leverages a database for presistent storage of the images, points, and measures of a network. The use of this database allows for quick access of each elements geometries and how those geometries relate with one another. "
   ]
  },
  {
   "cell_type": "markdown",
   "metadata": {},
   "source": [
    "# Components of The NetworkCandidateGraph"
   ]
  },
  {
   "cell_type": "markdown",
   "metadata": {},
   "source": [
    "# Database Table Structures\n",
    "This includes:\n",
    "- camera\n",
    "- costs\n",
    "- edges\n",
    "- images\n",
    "- keypoints\n",
    "- matches\n",
    "- measures\n",
    "- overlay \n",
    "- points"
   ]
  },
  {
   "cell_type": "code",
   "execution_count": null,
   "metadata": {
    "collapsed": true
   },
   "outputs": [],
   "source": []
  }
 ],
 "metadata": {
  "kernelspec": {
   "display_name": "Python 3",
   "language": "python",
   "name": "python3"
  },
  "language_info": {
   "codemirror_mode": {
    "name": "ipython",
    "version": 3
   },
   "file_extension": ".py",
   "mimetype": "text/x-python",
   "name": "python",
   "nbconvert_exporter": "python",
   "pygments_lexer": "ipython3",
   "version": "3.5.3"
  }
 },
 "nbformat": 4,
 "nbformat_minor": 2
}
