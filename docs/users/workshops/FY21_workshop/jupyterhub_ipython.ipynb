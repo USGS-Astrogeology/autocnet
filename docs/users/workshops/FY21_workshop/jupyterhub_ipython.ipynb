{
 "cells": [
  {
   "cell_type": "markdown",
   "metadata": {},
   "source": [
    "# Anaconda Environments\n",
    "Anaconda environments are a collection of python packages that are installed into an isolated environment and can be selectively accessed through activation of that environment. They are particularly helpful because various versions of a program or various combinations of programs in isolated environments do not effect those in another environment. \n",
    "\n",
    "For example, ASC internally creates anaconda environments for each new release, and release candidate of the ISIS software. If a user would like to access any particular version of ISIS, they would type `conda activate isisx.y.z`, if later they wanted to access a different version they could `conda deactivate & conda activate isisu.v.w` without worrying about cross containination of environment variables."
   ]
  },
  {
   "cell_type": "markdown",
   "metadata": {},
   "source": [
    "### Where are they located?\n",
    "There are internal environments and personal environments. Environments available to ASC internal users include ISIS release builds and select apps (autocnet, jupyter, plio, qgis, etc). You can view which environments area available to your user profile, along with the location of the installed apps using:"
   ]
  },
  {
   "cell_type": "code",
   "execution_count": 17,
   "metadata": {},
   "outputs": [
    {
     "name": "stdout",
     "output_type": "stream",
     "text": [
      "# conda environments:\r\n",
      "#\r\n",
      "autocnet_Jaffine         /home/ladoramkershner/miniconda3/envs/autocnet_Jaffine\r\n",
      "autocnet_local           /home/ladoramkershner/miniconda3/envs/autocnet_local\r\n",
      "csm_local                /home/ladoramkershner/miniconda3/envs/csm_local\r\n",
      "isis4c_prints            /home/ladoramkershner/miniconda3/envs/isis4c_prints\r\n",
      "isis_custom_06.05.20     /home/ladoramkershner/miniconda3/envs/isis_custom_06.05.20\r\n",
      "qgis                     /home/ladoramkershner/miniconda3/envs/qgis\r\n",
      "swig_csm                 /home/ladoramkershner/miniconda3/envs/swig_csm\r\n",
      "autocnet                 /usgs/apps/anaconda/envs/autocnet\r\n"
     ]
    }
   ],
   "source": [
    "! conda env list | head"
   ]
  },
  {
   "cell_type": "markdown",
   "metadata": {},
   "source": [
    "The asterisk ('\\*') indicates the currently active anaconda environment."
   ]
  },
  {
   "cell_type": "markdown",
   "metadata": {},
   "source": [
    "### Creating a New Environment\n",
    "__I am thinking of having the user create a new autocnet_uid environment, then uploading it to a python kernel__\n",
    "\n",
    "An anaconda environment can be created using the conda env create command\n",
    "\n",
    "```\n",
    "conda env create -n [name] -f [path/to/autocnet/environment.yml]\n",
    "```\n",
    "\n",
    "The -n argument is name that the new conda environment will be assigned. The -f argument points to a file that dictates which conda packages will be installed at the creation of the new environment. In this case, there is an environment.yml file located in the root folder of autocnet repository. \n",
    "\n",
    "Write this function below filling in the two arguments."
   ]
  },
  {
   "cell_type": "code",
   "execution_count": null,
   "metadata": {
    "collapsed": true
   },
   "outputs": [],
   "source": [
    "! [insert function]"
   ]
  },
  {
   "cell_type": "markdown",
   "metadata": {},
   "source": [
    "Show the `conda list` command (see what is avaiable in the conda environment)"
   ]
  },
  {
   "cell_type": "code",
   "execution_count": null,
   "metadata": {
    "collapsed": true
   },
   "outputs": [],
   "source": []
  },
  {
   "cell_type": "markdown",
   "metadata": {},
   "source": [
    "### What Packages are Available in an Environment?\n",
    "A user can either produce a general list of all packages in a conda environment"
   ]
  },
  {
   "cell_type": "code",
   "execution_count": 16,
   "metadata": {},
   "outputs": [
    {
     "name": "stdout",
     "output_type": "stream",
     "text": [
      "# packages in environment at /usgs/apps/anaconda/envs/jupyter:\r\n",
      "#\r\n",
      "asn1crypto                0.22.0                   py35_0    conda-forge\r\n",
      "astropy                   2.0.1               np111py35_1    conda-forge\r\n",
      "batchspawner              0.0.1.dev0                <pip>\r\n",
      "bkcharts                  0.2                      py35_0    conda-forge\r\n",
      "bleach                    1.5.0                    py35_0    conda-forge\r\n",
      "bokeh                     0.12.6                   py35_0    conda-forge\r\n",
      "boto                      2.47.0                   py35_0  \r\n",
      "ca-certificates           2017.7.27.1                   0    conda-forge\r\n"
     ]
    }
   ],
   "source": [
    "!conda list | head"
   ]
  },
  {
   "cell_type": "markdown",
   "metadata": {},
   "source": [
    "or check if a certain package is in the environment"
   ]
  },
  {
   "cell_type": "code",
   "execution_count": 15,
   "metadata": {},
   "outputs": [
    {
     "name": "stdout",
     "output_type": "stream",
     "text": [
      "# packages in environment at /usgs/apps/anaconda/envs/jupyter:\n",
      "#\n",
      "jupyterhub                0.7.2                    py35_0    conda-forge\n"
     ]
    }
   ],
   "source": [
    "!conda list jupyterhub"
   ]
  },
  {
   "cell_type": "markdown",
   "metadata": {},
   "source": [
    "# Notebook kernels\n",
    "Jupyter kernels are conda environments that can be accessed within a jupyter notebook\n",
    "- Click on 'Kernel' tab in top menu\n",
    "- Go to change 'Change Kernel' and look through the options\n",
    "\n",
    "### Where are they located?\n",
    "These jupyter kernels are located in user specific directories:"
   ]
  },
  {
   "cell_type": "code",
   "execution_count": 11,
   "metadata": {},
   "outputs": [
    {
     "name": "stdout",
     "output_type": "stream",
     "text": [
      "adtm_jl   autocnet_jaffine  cowboy_borpbop  kernel.json\r\n",
      "autocnet  autocnet_local    csm_local\t    rotations\r\n"
     ]
    }
   ],
   "source": [
    "uid=\"ladoramkershner\" # insert user id here\n",
    "!ls /home/$uid/.local/share/jupyter/kernels/"
   ]
  },
  {
   "cell_type": "markdown",
   "metadata": {},
   "source": [
    "### How to Upload New Kernel?\n",
    "```\n",
    "python -m ipykernel install --user --name myenv --display-name \"Python (myenv)\"\n",
    "```\n",
    "\n",
    "--name should be one of the environment listed by 'conda env list'\n",
    "\n",
    "--display-name is how you want it to appear in the jupyter notebook"
   ]
  },
  {
   "cell_type": "code",
   "execution_count": null,
   "metadata": {
    "collapsed": true
   },
   "outputs": [],
   "source": [
    "python -m ipykernel install --user --name myenv --display-name \"Python (myenv)\""
   ]
  },
  {
   "cell_type": "markdown",
   "metadata": {},
   "source": [
    "### Check Successful Upload"
   ]
  },
  {
   "cell_type": "code",
   "execution_count": null,
   "metadata": {
    "collapsed": true
   },
   "outputs": [],
   "source": [
    "uid=\"ladoramkershner\" # insert user id here\n",
    "!ls /home/$uid/.local/share/jupyter/kernels/"
   ]
  },
  {
   "cell_type": "markdown",
   "metadata": {},
   "source": [
    "# How to start-up a notebook\n",
    "In order to access python modules (or functions from a python module) they must be explicitly loaded into the notebook."
   ]
  },
  {
   "cell_type": "code",
   "execution_count": 20,
   "metadata": {},
   "outputs": [],
   "source": [
    "import numpy as np \n",
    "import blah from BLAH\n",
    "import BLAH"
   ]
  },
  {
   "cell_type": "markdown",
   "metadata": {},
   "source": [
    "## Cells\n",
    "Cells are isolated blocks of code that can be run individually. Although the code is sequester within a cell, the variables created in a cell can be accessed else were. For example,"
   ]
  },
  {
   "cell_type": "code",
   "execution_count": 21,
   "metadata": {
    "collapsed": true
   },
   "outputs": [],
   "source": [
    "a = 2+2"
   ]
  },
  {
   "cell_type": "code",
   "execution_count": 22,
   "metadata": {},
   "outputs": [
    {
     "name": "stdout",
     "output_type": "stream",
     "text": [
      "4\n"
     ]
    }
   ],
   "source": [
    "print(a)"
   ]
  },
  {
   "cell_type": "markdown",
   "metadata": {},
   "source": [
    "## Documenting"
   ]
  },
  {
   "cell_type": "code",
   "execution_count": null,
   "metadata": {
    "collapsed": true
   },
   "outputs": [],
   "source": []
  },
  {
   "cell_type": "code",
   "execution_count": null,
   "metadata": {
    "collapsed": true
   },
   "outputs": [],
   "source": []
  },
  {
   "cell_type": "markdown",
   "metadata": {},
   "source": [
    "# Killing Notebooks\n",
    "Notebooks are hosted on the nebula cluster, unless specifically shut down, the job running the jupyter notebook will continue running even if jupyter hub fails. It is important to cancel your jupyter jobs after you are finished or you will get made fun of."
   ]
  },
  {
   "cell_type": "code",
   "execution_count": 18,
   "metadata": {},
   "outputs": [
    {
     "name": "stdout",
     "output_type": "stream",
     "text": [
      "             JOBID PARTITION     NAME     USER ST       TIME  NODES NODELIST(REASON) \r\n",
      "          21438177   longall jupyter- ladoramk  R 8-07:33:17      1 neb15 \r\n"
     ]
    }
   ],
   "source": [
    "!squeue -u ladoramkershner"
   ]
  },
  {
   "cell_type": "markdown",
   "metadata": {
    "collapsed": true
   },
   "source": [
    "\n",
    "`scancel [jobid]`"
   ]
  }
 ],
 "metadata": {
  "kernelspec": {
   "display_name": "Python 3",
   "language": "python",
   "name": "python3"
  },
  "language_info": {
   "codemirror_mode": {
    "name": "ipython",
    "version": 3
   },
   "file_extension": ".py",
   "mimetype": "text/x-python",
   "name": "python",
   "nbconvert_exporter": "python",
   "pygments_lexer": "ipython3",
   "version": "3.5.3"
  }
 },
 "nbformat": 4,
 "nbformat_minor": 2
}
